{
 "cells": [
  {
   "cell_type": "markdown",
   "source": [
    "# Data Import"
   ],
   "metadata": {}
  },
  {
   "cell_type": "code",
   "execution_count": 1,
   "source": [
    "import pandas as pd\r\n",
    "import numpy as np\r\n",
    "import datetime as dt"
   ],
   "outputs": [],
   "metadata": {}
  },
  {
   "cell_type": "code",
   "execution_count": 2,
   "source": [
    "data_path = (\"C:\\\\Users\\\\EAFle\\\\U3S4_BW\\\\GitHub_Repo\\\\Kickstarter\\\\data-modeling-1\\\\KickstarterCleanedv3.csv\")\r\n",
    "\r\n",
    "raw_df = pd.read_csv(data_path, index_col='id')"
   ],
   "outputs": [],
   "metadata": {
    "scrolled": true
   }
  },
  {
   "cell_type": "markdown",
   "source": [
    "# Exploratory Data Analysis"
   ],
   "metadata": {}
  },
  {
   "cell_type": "code",
   "execution_count": 3,
   "source": [
    "raw_df.info()"
   ],
   "outputs": [
    {
     "output_type": "stream",
     "name": "stdout",
     "text": [
      "<class 'pandas.core.frame.DataFrame'>\n",
      "Int64Index: 218361 entries, 1629235715 to 807310529\n",
      "Data columns (total 21 columns):\n",
      " #   Column             Non-Null Count   Dtype  \n",
      "---  ------             --------------   -----  \n",
      " 0   Unnamed: 0         218361 non-null  int64  \n",
      " 1   backers_count      218361 non-null  int64  \n",
      " 2   blurb              218353 non-null  object \n",
      " 3   category           218361 non-null  object \n",
      " 4   country            218361 non-null  object \n",
      " 5   created_at         218361 non-null  object \n",
      " 6   deadline           218361 non-null  object \n",
      " 7   goal               218361 non-null  float64\n",
      " 8   launched_at        218361 non-null  object \n",
      " 9   name               218361 non-null  object \n",
      " 10  pledged            218361 non-null  float64\n",
      " 11  spotlight          218361 non-null  int64  \n",
      " 12  staff_pick         218361 non-null  int64  \n",
      " 13  state              218361 non-null  int64  \n",
      " 14  state_changed_at   218361 non-null  object \n",
      " 15  usd_exchange_rate  218361 non-null  float64\n",
      " 16  usd_pledged        218361 non-null  float64\n",
      " 17  blurb_length       218353 non-null  float64\n",
      " 18  goal_in_usd        218361 non-null  float64\n",
      " 19  campaign_duration  218361 non-null  int64  \n",
      " 20  sub_category       210635 non-null  object \n",
      "dtypes: float64(6), int64(6), object(9)\n",
      "memory usage: 36.7+ MB\n"
     ]
    }
   ],
   "metadata": {}
  },
  {
   "cell_type": "code",
   "execution_count": 4,
   "source": [
    "from pandas_profiling import ProfileReport"
   ],
   "outputs": [],
   "metadata": {}
  },
  {
   "cell_type": "code",
   "execution_count": 5,
   "source": [
    "# raw_df.profile_report()"
   ],
   "outputs": [],
   "metadata": {
    "scrolled": true
   }
  },
  {
   "cell_type": "markdown",
   "source": [
    "# Dataframe Cleaning"
   ],
   "metadata": {}
  },
  {
   "cell_type": "code",
   "execution_count": 6,
   "source": [
    "# Applying the necessary data cleaning and featuring engineering\r\n",
    "# in one wrangle function.\r\n",
    "\r\n",
    "def wrangle(df):\r\n",
    "\r\n",
    "    # Defining new reader friendly column names\r\n",
    "    column_names = ['Kickstarter_id', 'Backers Count', 'Campaign Description', 'Primary Category', \\\r\n",
    "        'Country', 'Campaign Created', 'Deadline', 'Campaign Goal', 'Campaign Start', \\\r\n",
    "        'Product Name', 'Amount Pledged', 'Product Spotlight', 'Staff Pick', 'Status', \\\r\n",
    "        'Goal Reached Date', 'USD Exchange Rate', 'USD Pledged', 'Description Length', 'Goal in USD', \\\r\n",
    "        'Campaign Length', 'Subcategory']\r\n",
    "    df.columns = column_names\r\n",
    "\r\n",
    "\r\n",
    "    # Capitalizing the category and subcategory data points for an easier read\r\n",
    "    df['Primary Category'] = df['Primary Category'].str.title()\r\n",
    "    df['Subcategory'] = df['Subcategory'].str.title()\r\n",
    "\r\n",
    "\r\n",
    "    # Converting date columns to datetime dtype\r\n",
    "    date_columns = ['Campaign Created', 'Deadline', 'Campaign Start', 'Goal Reached Date']\r\n",
    "    df[date_columns] = df[date_columns].apply(pd.to_datetime)\r\n",
    "\r\n",
    "\r\n",
    "    # Dropping columns and rows not applicable to an American audience\r\n",
    "    non_essential_columns = ['Kickstarter_id', 'USD Exchange Rate', 'USD Pledged', 'Goal in USD']\r\n",
    "    df.drop(columns=non_essential_columns, axis=1, inplace=True)\r\n",
    "    df.drop(df.loc[df['Country']!='US'].index, inplace=True)\r\n",
    "\r\n",
    "\r\n",
    "    # Correcting country name with ISO country code name\r\n",
    "    df['Country'] = df['Country'].replace('US', 'USA')\r\n",
    "\r\n",
    "\r\n",
    "    # Filling absent subcategory values with primary category values\r\n",
    "    # We don't want to discredit a product because it cannot qualify\r\n",
    "    # For a granular subcategory\r\n",
    "    df[['Primary Category', 'Subcategory']] = df[['Primary Category', 'Subcategory']].astype(str)\r\n",
    "    df['Subcategory'].fillna(df['Primary Category'], inplace=True)\r\n",
    "\r\n",
    "\r\n",
    "    # Dropping rows with no campaign description\r\n",
    "    # As they may not be serious campaigns\r\n",
    "    # This data may also provide future data leakage indicating campaign failure.\r\n",
    "    df.dropna(axis=0, inplace=True)\r\n",
    "\r\n",
    "\r\n",
    "    # Creating features to indicate goal and pledge amounts per day and per backer\r\n",
    "    # These features can assist campaign success measurements\r\n",
    "    df['Goal Amount Per Backer'] = round(df['Campaign Goal']/df['Backers Count'])\r\n",
    "    df['Pledge Amount Per Backer'] = round(df['Amount Pledged']/df['Backers Count'])\r\n",
    "    df['Goal Amount Per Day'] = round(df['Campaign Goal']/df['Campaign Length'])\r\n",
    "    df['Pledge Amount Per Day'] = round(df['Amount Pledged']/df['Campaign Length'])\r\n",
    "\r\n",
    "\r\n",
    "    # Creating data to quantify the time from campagin creation to start\r\n",
    "    df['Campaign Launch Length'] = df['Campaign Start'].sub(df['Campaign Created'], axis=0)\r\n",
    "\r\n",
    "    return df"
   ],
   "outputs": [],
   "metadata": {}
  },
  {
   "cell_type": "code",
   "execution_count": 7,
   "source": [
    "df = wrangle(raw_df)\r\n",
    "\r\n",
    "df.head()"
   ],
   "outputs": [
    {
     "output_type": "execute_result",
     "data": {
      "text/plain": [
       "            Backers Count                               Campaign Description  \\\n",
       "id                                                                             \n",
       "1629235715             63                       A Steve Lafler graphic novel   \n",
       "1593905291            132  What happens when two drug-fueled lowlifes fin...   \n",
       "1341470613              6                            A pillow meant for two.   \n",
       "510157690              16  Professional conservation of the 1880's mural ...   \n",
       "147824964              44  We are trying to raise $2,500 for an art proje...   \n",
       "\n",
       "           Primary Category Country Campaign Created   Deadline  \\\n",
       "id                                                                \n",
       "1629235715           Comics     USA       2020-08-27 2020-09-24   \n",
       "1593905291           Comics     USA       2017-01-16 2017-03-16   \n",
       "1341470613           Crafts     USA       2015-02-01 2015-03-05   \n",
       "510157690               Art     USA       2018-10-24 2019-04-24   \n",
       "147824964               Art     USA       2012-06-28 2013-04-05   \n",
       "\n",
       "            Campaign Goal Campaign Start  \\\n",
       "id                                         \n",
       "1629235715          599.0     2020-09-01   \n",
       "1593905291         2000.0     2017-02-14   \n",
       "1341470613          500.0     2015-02-03   \n",
       "510157690         17000.0     2019-03-10   \n",
       "147824964          2500.0     2013-02-04   \n",
       "\n",
       "                                          Product Name  Amount Pledged  ...  \\\n",
       "id                                                                      ...   \n",
       "1629235715    1956 Book One: Sweet Sweet Little Ramona          1942.0  ...   \n",
       "1593905291                              Modern Animals          3097.0  ...   \n",
       "1341470613                        Couples Couch Pillow           211.0  ...   \n",
       "510157690   Downtown Mural Restoration (Ann Arbor, MI)          1368.0  ...   \n",
       "147824964                  The Trade Parade of Ecuador          2506.0  ...   \n",
       "\n",
       "            Status  Goal Reached Date  Description Length Campaign Length  \\\n",
       "id                                                                          \n",
       "1629235715       1         2020-09-24                 5.0              23   \n",
       "1593905291       1         2017-03-16                20.0              30   \n",
       "1341470613       0         2015-03-05                 5.0              30   \n",
       "510157690        0         2019-04-24                18.0              45   \n",
       "147824964        1         2013-04-05                14.0              60   \n",
       "\n",
       "                Subcategory  Goal Amount Per Backer Pledge Amount Per Backer  \\\n",
       "id                                                                             \n",
       "1629235715   Graphic Novels                    10.0                     31.0   \n",
       "1593905291   Graphic Novels                    15.0                     23.0   \n",
       "1341470613              Diy                    83.0                     35.0   \n",
       "510157690          Painting                  1062.0                     86.0   \n",
       "147824964   Performance Art                    57.0                     57.0   \n",
       "\n",
       "            Goal Amount Per Day  Pledge Amount Per Day  Campaign Launch Length  \n",
       "id                                                                              \n",
       "1629235715                 26.0                   84.0                  5 days  \n",
       "1593905291                 67.0                  103.0                 29 days  \n",
       "1341470613                 17.0                    7.0                  2 days  \n",
       "510157690                 378.0                   30.0                137 days  \n",
       "147824964                  42.0                   42.0                221 days  \n",
       "\n",
       "[5 rows x 22 columns]"
      ],
      "text/html": [
       "<div>\n",
       "<style scoped>\n",
       "    .dataframe tbody tr th:only-of-type {\n",
       "        vertical-align: middle;\n",
       "    }\n",
       "\n",
       "    .dataframe tbody tr th {\n",
       "        vertical-align: top;\n",
       "    }\n",
       "\n",
       "    .dataframe thead th {\n",
       "        text-align: right;\n",
       "    }\n",
       "</style>\n",
       "<table border=\"1\" class=\"dataframe\">\n",
       "  <thead>\n",
       "    <tr style=\"text-align: right;\">\n",
       "      <th></th>\n",
       "      <th>Backers Count</th>\n",
       "      <th>Campaign Description</th>\n",
       "      <th>Primary Category</th>\n",
       "      <th>Country</th>\n",
       "      <th>Campaign Created</th>\n",
       "      <th>Deadline</th>\n",
       "      <th>Campaign Goal</th>\n",
       "      <th>Campaign Start</th>\n",
       "      <th>Product Name</th>\n",
       "      <th>Amount Pledged</th>\n",
       "      <th>...</th>\n",
       "      <th>Status</th>\n",
       "      <th>Goal Reached Date</th>\n",
       "      <th>Description Length</th>\n",
       "      <th>Campaign Length</th>\n",
       "      <th>Subcategory</th>\n",
       "      <th>Goal Amount Per Backer</th>\n",
       "      <th>Pledge Amount Per Backer</th>\n",
       "      <th>Goal Amount Per Day</th>\n",
       "      <th>Pledge Amount Per Day</th>\n",
       "      <th>Campaign Launch Length</th>\n",
       "    </tr>\n",
       "    <tr>\n",
       "      <th>id</th>\n",
       "      <th></th>\n",
       "      <th></th>\n",
       "      <th></th>\n",
       "      <th></th>\n",
       "      <th></th>\n",
       "      <th></th>\n",
       "      <th></th>\n",
       "      <th></th>\n",
       "      <th></th>\n",
       "      <th></th>\n",
       "      <th></th>\n",
       "      <th></th>\n",
       "      <th></th>\n",
       "      <th></th>\n",
       "      <th></th>\n",
       "      <th></th>\n",
       "      <th></th>\n",
       "      <th></th>\n",
       "      <th></th>\n",
       "      <th></th>\n",
       "      <th></th>\n",
       "    </tr>\n",
       "  </thead>\n",
       "  <tbody>\n",
       "    <tr>\n",
       "      <th>1629235715</th>\n",
       "      <td>63</td>\n",
       "      <td>A Steve Lafler graphic novel</td>\n",
       "      <td>Comics</td>\n",
       "      <td>USA</td>\n",
       "      <td>2020-08-27</td>\n",
       "      <td>2020-09-24</td>\n",
       "      <td>599.0</td>\n",
       "      <td>2020-09-01</td>\n",
       "      <td>1956 Book One: Sweet Sweet Little Ramona</td>\n",
       "      <td>1942.0</td>\n",
       "      <td>...</td>\n",
       "      <td>1</td>\n",
       "      <td>2020-09-24</td>\n",
       "      <td>5.0</td>\n",
       "      <td>23</td>\n",
       "      <td>Graphic Novels</td>\n",
       "      <td>10.0</td>\n",
       "      <td>31.0</td>\n",
       "      <td>26.0</td>\n",
       "      <td>84.0</td>\n",
       "      <td>5 days</td>\n",
       "    </tr>\n",
       "    <tr>\n",
       "      <th>1593905291</th>\n",
       "      <td>132</td>\n",
       "      <td>What happens when two drug-fueled lowlifes fin...</td>\n",
       "      <td>Comics</td>\n",
       "      <td>USA</td>\n",
       "      <td>2017-01-16</td>\n",
       "      <td>2017-03-16</td>\n",
       "      <td>2000.0</td>\n",
       "      <td>2017-02-14</td>\n",
       "      <td>Modern Animals</td>\n",
       "      <td>3097.0</td>\n",
       "      <td>...</td>\n",
       "      <td>1</td>\n",
       "      <td>2017-03-16</td>\n",
       "      <td>20.0</td>\n",
       "      <td>30</td>\n",
       "      <td>Graphic Novels</td>\n",
       "      <td>15.0</td>\n",
       "      <td>23.0</td>\n",
       "      <td>67.0</td>\n",
       "      <td>103.0</td>\n",
       "      <td>29 days</td>\n",
       "    </tr>\n",
       "    <tr>\n",
       "      <th>1341470613</th>\n",
       "      <td>6</td>\n",
       "      <td>A pillow meant for two.</td>\n",
       "      <td>Crafts</td>\n",
       "      <td>USA</td>\n",
       "      <td>2015-02-01</td>\n",
       "      <td>2015-03-05</td>\n",
       "      <td>500.0</td>\n",
       "      <td>2015-02-03</td>\n",
       "      <td>Couples Couch Pillow</td>\n",
       "      <td>211.0</td>\n",
       "      <td>...</td>\n",
       "      <td>0</td>\n",
       "      <td>2015-03-05</td>\n",
       "      <td>5.0</td>\n",
       "      <td>30</td>\n",
       "      <td>Diy</td>\n",
       "      <td>83.0</td>\n",
       "      <td>35.0</td>\n",
       "      <td>17.0</td>\n",
       "      <td>7.0</td>\n",
       "      <td>2 days</td>\n",
       "    </tr>\n",
       "    <tr>\n",
       "      <th>510157690</th>\n",
       "      <td>16</td>\n",
       "      <td>Professional conservation of the 1880's mural ...</td>\n",
       "      <td>Art</td>\n",
       "      <td>USA</td>\n",
       "      <td>2018-10-24</td>\n",
       "      <td>2019-04-24</td>\n",
       "      <td>17000.0</td>\n",
       "      <td>2019-03-10</td>\n",
       "      <td>Downtown Mural Restoration (Ann Arbor, MI)</td>\n",
       "      <td>1368.0</td>\n",
       "      <td>...</td>\n",
       "      <td>0</td>\n",
       "      <td>2019-04-24</td>\n",
       "      <td>18.0</td>\n",
       "      <td>45</td>\n",
       "      <td>Painting</td>\n",
       "      <td>1062.0</td>\n",
       "      <td>86.0</td>\n",
       "      <td>378.0</td>\n",
       "      <td>30.0</td>\n",
       "      <td>137 days</td>\n",
       "    </tr>\n",
       "    <tr>\n",
       "      <th>147824964</th>\n",
       "      <td>44</td>\n",
       "      <td>We are trying to raise $2,500 for an art proje...</td>\n",
       "      <td>Art</td>\n",
       "      <td>USA</td>\n",
       "      <td>2012-06-28</td>\n",
       "      <td>2013-04-05</td>\n",
       "      <td>2500.0</td>\n",
       "      <td>2013-02-04</td>\n",
       "      <td>The Trade Parade of Ecuador</td>\n",
       "      <td>2506.0</td>\n",
       "      <td>...</td>\n",
       "      <td>1</td>\n",
       "      <td>2013-04-05</td>\n",
       "      <td>14.0</td>\n",
       "      <td>60</td>\n",
       "      <td>Performance Art</td>\n",
       "      <td>57.0</td>\n",
       "      <td>57.0</td>\n",
       "      <td>42.0</td>\n",
       "      <td>42.0</td>\n",
       "      <td>221 days</td>\n",
       "    </tr>\n",
       "  </tbody>\n",
       "</table>\n",
       "<p>5 rows × 22 columns</p>\n",
       "</div>"
      ]
     },
     "metadata": {},
     "execution_count": 7
    }
   ],
   "metadata": {}
  },
  {
   "cell_type": "code",
   "execution_count": 8,
   "source": [
    "df.info()"
   ],
   "outputs": [
    {
     "output_type": "stream",
     "name": "stdout",
     "text": [
      "<class 'pandas.core.frame.DataFrame'>\n",
      "Int64Index: 148206 entries, 1629235715 to 807310529\n",
      "Data columns (total 22 columns):\n",
      " #   Column                    Non-Null Count   Dtype          \n",
      "---  ------                    --------------   -----          \n",
      " 0   Backers Count             148206 non-null  int64          \n",
      " 1   Campaign Description      148206 non-null  object         \n",
      " 2   Primary Category          148206 non-null  object         \n",
      " 3   Country                   148206 non-null  object         \n",
      " 4   Campaign Created          148206 non-null  datetime64[ns] \n",
      " 5   Deadline                  148206 non-null  datetime64[ns] \n",
      " 6   Campaign Goal             148206 non-null  float64        \n",
      " 7   Campaign Start            148206 non-null  datetime64[ns] \n",
      " 8   Product Name              148206 non-null  object         \n",
      " 9   Amount Pledged            148206 non-null  float64        \n",
      " 10  Product Spotlight         148206 non-null  int64          \n",
      " 11  Staff Pick                148206 non-null  int64          \n",
      " 12  Status                    148206 non-null  int64          \n",
      " 13  Goal Reached Date         148206 non-null  datetime64[ns] \n",
      " 14  Description Length        148206 non-null  float64        \n",
      " 15  Campaign Length           148206 non-null  int64          \n",
      " 16  Subcategory               148206 non-null  object         \n",
      " 17  Goal Amount Per Backer    148206 non-null  float64        \n",
      " 18  Pledge Amount Per Backer  137461 non-null  float64        \n",
      " 19  Goal Amount Per Day       148206 non-null  float64        \n",
      " 20  Pledge Amount Per Day     148206 non-null  float64        \n",
      " 21  Campaign Launch Length    148206 non-null  timedelta64[ns]\n",
      "dtypes: datetime64[ns](4), float64(7), int64(5), object(5), timedelta64[ns](1)\n",
      "memory usage: 26.0+ MB\n"
     ]
    }
   ],
   "metadata": {}
  },
  {
   "cell_type": "code",
   "execution_count": 40,
   "source": [
    "df['Product Name'].value_counts()"
   ],
   "outputs": [
    {
     "output_type": "execute_result",
     "data": {
      "text/plain": [
       "The Nest                                                      5\n",
       "The Awakening                                                 5\n",
       "Macbeth                                                       5\n",
       "The Other Side                                                5\n",
       "I AM                                                          4\n",
       "                                                             ..\n",
       "3rd Street Blackout                                           1\n",
       "Emergence AS8 - The World's Most Innovative Speaker System    1\n",
       "Future Skills Development                                     1\n",
       "Tinker's Treasury at FantasyCon                               1\n",
       "GADDMUSIC by Regine Louis                                     1\n",
       "Name: Product Name, Length: 132840, dtype: int64"
      ]
     },
     "metadata": {},
     "execution_count": 40
    }
   ],
   "metadata": {}
  },
  {
   "cell_type": "code",
   "execution_count": 45,
   "source": [
    "df['Campaign Description'].value_counts()"
   ],
   "outputs": [
    {
     "output_type": "execute_result",
     "data": {
      "text/plain": [
       "ALL-NEW SEXY BADGIRL characters from comic book INDIE legend Everette Hartsoe. 100% artwork in book                                     38\n",
       "A beautiful natural Fine art nude book exemplifying the female form presented by female producer Nina Vain.                             28\n",
       "Hard Enamel Pins                                                                                                                        20\n",
       "The Decentralized Dance Party was founded on the belief that Partying is an art form that has the power to change the world.            17\n",
       "Wearing masks to express our inner feelings and desires.                                                                                12\n",
       "                                                                                                                                        ..\n",
       "My first studio EP is almost complete - please help me finish the cd and share these songs - straight from my heart & soul.              1\n",
       "An atheist performance artist experiences the signs of stigmata, forcing him to question a lifetime of disbelief.                        1\n",
       "A trade paperback collecting the first five issues of the ongoing webcomic \"Dreamland.\" Includes bonus never released preview issue!     1\n",
       "The computer for the entire world.                                                                                                       1\n",
       "Follow Leon as he leads a group of survivors against an apocalyptic alien threat, which will stop at nothing to finish what remains.     1\n",
       "Name: Campaign Description, Length: 132010, dtype: int64"
      ]
     },
     "metadata": {},
     "execution_count": 45
    }
   ],
   "metadata": {}
  },
  {
   "cell_type": "code",
   "execution_count": 36,
   "source": [
    "print('Length of the dataframe:', (len(df)))"
   ],
   "outputs": [
    {
     "output_type": "stream",
     "name": "stdout",
     "text": [
      "Length of the dataframe: 148206\n"
     ]
    }
   ],
   "metadata": {}
  },
  {
   "cell_type": "code",
   "execution_count": 39,
   "source": [
    "print('Length of Product Name counts:', len(df['Product Name'].value_counts()))"
   ],
   "outputs": [
    {
     "output_type": "stream",
     "name": "stdout",
     "text": [
      "Length of Product Name counts: 132840\n"
     ]
    }
   ],
   "metadata": {}
  },
  {
   "cell_type": "code",
   "execution_count": 46,
   "source": [
    "print('Length of Product Name counts:', len(df['Campaign Description'].value_counts()))"
   ],
   "outputs": [
    {
     "output_type": "stream",
     "name": "stdout",
     "text": [
      "Length of Product Name counts: 132010\n"
     ]
    }
   ],
   "metadata": {}
  },
  {
   "cell_type": "markdown",
   "source": [
    "## Feature Engineering\r\n"
   ],
   "metadata": {}
  },
  {
   "cell_type": "markdown",
   "source": [
    "# Data Visualization\r\n"
   ],
   "metadata": {}
  },
  {
   "cell_type": "code",
   "execution_count": 9,
   "source": [
    "# Bar chart of primary category, subcategories, campaign length https://matplotlib.org/stable/api/_as_gen/matplotlib.pyplot.bar.html\r\n",
    "\r\n",
    "# Whisker plot of campaign goal, amount pledged, backers count https://matplotlib.org/3.1.1/api/_as_gen/matplotlib.pyplot.boxplot.html"
   ],
   "outputs": [],
   "metadata": {}
  },
  {
   "cell_type": "markdown",
   "source": [
    "# Modeling\r\n"
   ],
   "metadata": {}
  },
  {
   "cell_type": "code",
   "execution_count": 10,
   "source": [
    "from sklearn.linear_model import LogisticRegression\r\n",
    "from sklearn.pipeline import make_pipeline\r\n",
    "from category_encoders import OneHotEncoder, OrdinalEncoder\r\n",
    "from sklearn.impute import SimpleImputer\r\n",
    "from sklearn.preprocessing import StandardScaler\r\n",
    "from sklearn.ensemble import GradientBoostingClassifier\r\n",
    "from sklearn.model_selection import train_test_split, cross_val_score, validation_curve, RandomizedSearchCV\r\n"
   ],
   "outputs": [],
   "metadata": {}
  },
  {
   "cell_type": "code",
   "execution_count": 11,
   "source": [
    "# Establishing feature matrix and y vector.\r\n",
    "\r\n",
    "target = 'Status'\r\n",
    "\r\n",
    "X = df.drop(columns=target)\r\n",
    "y = df[target]\r\n",
    "\r\n",
    "print(X.shape)\r\n",
    "print(y.shape)\r\n",
    "print(\"The matrix and vector are the same length:\", (len(y) == len(X)))"
   ],
   "outputs": [
    {
     "output_type": "stream",
     "name": "stdout",
     "text": [
      "(148206, 21)\n",
      "(148206,)\n",
      "The matrix and vector are the same length: True\n"
     ]
    }
   ],
   "metadata": {}
  },
  {
   "cell_type": "markdown",
   "source": [
    "# NLP Assessment"
   ],
   "metadata": {}
  },
  {
   "cell_type": "code",
   "execution_count": 48,
   "source": [
    "# Base\r\n",
    "from collections import Counter\r\n",
    "\r\n",
    "# SKLearn \r\n",
    "from sklearn.feature_extraction.text import CountVectorizer, TfidfVectorizer\r\n",
    "from sklearn.metrics.pairwise import cosine_similarity\r\n",
    "from sklearn.neighbors import NearestNeighbors\r\n",
    "from sklearn.decomposition import PCA"
   ],
   "outputs": [],
   "metadata": {}
  },
  {
   "cell_type": "code",
   "execution_count": null,
   "source": [
    "!python -m spacy download en_core_web_md\r\n",
    "# NLP Libraries\r\n",
    "import spacy\r\n",
    "from spacy.tokenizer import Tokenizer\r\n",
    "from nltk.stem import PorterStemmer\r\n",
    "import re\r\n",
    "nlp = spacy.load('en_core_web_md')"
   ],
   "outputs": [],
   "metadata": {}
  },
  {
   "cell_type": "code",
   "execution_count": null,
   "source": [
    "!pip install squarify\r\n",
    "# Plotting\r\n",
    "import squarify\r\n",
    "import matplotlib.pyplot as plt\r\n",
    "import seaborn as sns"
   ],
   "outputs": [],
   "metadata": {}
  },
  {
   "cell_type": "code",
   "execution_count": 20,
   "source": [
    "description_txt = (df['Campaign Description'])\r\n",
    "\r\n",
    "print(description_txt)"
   ],
   "outputs": [
    {
     "output_type": "stream",
     "name": "stdout",
     "text": [
      "id\n",
      "1629235715                         A Steve Lafler graphic novel\n",
      "1593905291    What happens when two drug-fueled lowlifes fin...\n",
      "1341470613                              A pillow meant for two.\n",
      "510157690     Professional conservation of the 1880's mural ...\n",
      "147824964     We are trying to raise $2,500 for an art proje...\n",
      "                                    ...                        \n",
      "726996410     The second issue of a surreal and eclectic com...\n",
      "552263605     Coral Projects is an ecological contemporary a...\n",
      "1590830103    \"The Wanted Man\"\\n\\nInspired by the classic so...\n",
      "2093445204    A quaint bachelorette party in the open sea go...\n",
      "807310529     This is the second book in the Analog Missions...\n",
      "Name: Campaign Description, Length: 148206, dtype: object\n"
     ]
    }
   ],
   "metadata": {}
  },
  {
   "cell_type": "code",
   "execution_count": 21,
   "source": [
    "product_name_txt = (df['Product Name'])\r\n",
    "\r\n",
    "print(product_name_txt)"
   ],
   "outputs": [
    {
     "output_type": "stream",
     "name": "stdout",
     "text": [
      "id\n",
      "1629235715             1956 Book One: Sweet Sweet Little Ramona\n",
      "1593905291                                       Modern Animals\n",
      "1341470613                                 Couples Couch Pillow\n",
      "510157690            Downtown Mural Restoration (Ann Arbor, MI)\n",
      "147824964                           The Trade Parade of Ecuador\n",
      "                                    ...                        \n",
      "726996410                            Days Off #2 - An Anthology\n",
      "552263605     Coral Projects: Underwater Artwork for Corals ...\n",
      "1590830103                            Wretched Realms: Issue #1\n",
      "2093445204    THE DEEP DARK - A \"Lovecraftian\" tale of Aquat...\n",
      "807310529     Analog Missions: Oberon A Unique Science Ficti...\n",
      "Name: Product Name, Length: 148206, dtype: object\n"
     ]
    }
   ],
   "metadata": {}
  }
 ],
 "metadata": {
  "kernelspec": {
   "name": "python3",
   "display_name": "Python 3.8.8 64-bit ('base': conda)"
  },
  "language_info": {
   "codemirror_mode": {
    "name": "ipython",
    "version": 3
   },
   "file_extension": ".py",
   "mimetype": "text/x-python",
   "name": "python",
   "nbconvert_exporter": "python",
   "pygments_lexer": "ipython3",
   "version": "3.8.8"
  },
  "interpreter": {
   "hash": "3f8956436d8ce59f668ff26075b9e4d053dba06b7526eb5909008814682cd7e3"
  }
 },
 "nbformat": 4,
 "nbformat_minor": 5
}