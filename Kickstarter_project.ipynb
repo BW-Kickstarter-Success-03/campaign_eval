{
 "cells": [
  {
   "cell_type": "markdown",
   "source": [
    "# Data Import"
   ],
   "metadata": {}
  },
  {
   "cell_type": "code",
   "execution_count": 3,
   "source": [
    "import pandas as pd\r\n",
    "import numpy as np\r\n",
    "import datetime as dt"
   ],
   "outputs": [],
   "metadata": {}
  },
  {
   "cell_type": "code",
   "execution_count": 83,
   "source": [
    "data_path = (\"C:\\\\Users\\\\EAFle\\\\U3S4_BW\\\\GitHub_Repo\\\\Kickstarter\\\\data-modeling-1\\\\KickstarterCleanedv3.csv\")\r\n",
    "\r\n",
    "raw_df = pd.read_csv(data_path, index_col='id')"
   ],
   "outputs": [],
   "metadata": {
    "scrolled": true
   }
  },
  {
   "cell_type": "markdown",
   "source": [
    "# Exploratory Data Analysis"
   ],
   "metadata": {}
  },
  {
   "cell_type": "code",
   "execution_count": 3,
   "source": [
    "raw_df.info()"
   ],
   "outputs": [
    {
     "output_type": "stream",
     "name": "stdout",
     "text": [
      "<class 'pandas.core.frame.DataFrame'>\n",
      "Int64Index: 218361 entries, 1629235715 to 807310529\n",
      "Data columns (total 21 columns):\n",
      " #   Column             Non-Null Count   Dtype  \n",
      "---  ------             --------------   -----  \n",
      " 0   Unnamed: 0         218361 non-null  int64  \n",
      " 1   backers_count      218361 non-null  int64  \n",
      " 2   blurb              218353 non-null  object \n",
      " 3   category           218361 non-null  object \n",
      " 4   country            218361 non-null  object \n",
      " 5   created_at         218361 non-null  object \n",
      " 6   deadline           218361 non-null  object \n",
      " 7   goal               218361 non-null  float64\n",
      " 8   launched_at        218361 non-null  object \n",
      " 9   name               218361 non-null  object \n",
      " 10  pledged            218361 non-null  float64\n",
      " 11  spotlight          218361 non-null  int64  \n",
      " 12  staff_pick         218361 non-null  int64  \n",
      " 13  state              218361 non-null  int64  \n",
      " 14  state_changed_at   218361 non-null  object \n",
      " 15  usd_exchange_rate  218361 non-null  float64\n",
      " 16  usd_pledged        218361 non-null  float64\n",
      " 17  blurb_length       218353 non-null  float64\n",
      " 18  goal_in_usd        218361 non-null  float64\n",
      " 19  campaign_duration  218361 non-null  int64  \n",
      " 20  sub_category       210635 non-null  object \n",
      "dtypes: float64(6), int64(6), object(9)\n",
      "memory usage: 36.7+ MB\n"
     ]
    }
   ],
   "metadata": {}
  },
  {
   "cell_type": "code",
   "execution_count": 4,
   "source": [
    "from pandas_profiling import ProfileReport"
   ],
   "outputs": [],
   "metadata": {}
  },
  {
   "cell_type": "code",
   "execution_count": 5,
   "source": [
    "# raw_df.profile_report()"
   ],
   "outputs": [],
   "metadata": {
    "scrolled": true
   }
  },
  {
   "cell_type": "markdown",
   "source": [
    "# Dataframe Cleaning"
   ],
   "metadata": {}
  },
  {
   "cell_type": "code",
   "execution_count": 84,
   "source": [
    "# Applying the necessary data cleaning and featuring engineering\r\n",
    "# in one wrangle function.\r\n",
    "\r\n",
    "def wrangle(df):\r\n",
    "\r\n",
    "    # Defining new reader friendly column names\r\n",
    "    column_names = ['Kickstarter_id', 'Backers Count', 'Campaign Description', 'Primary Category', \\\r\n",
    "        'Country', 'Campaign Created', 'Deadline', 'Campaign Goal', 'Campaign Start', \\\r\n",
    "        'Product Name', 'Amount Pledged', 'Product Spotlight', 'Staff Pick', 'Status', \\\r\n",
    "        'Goal Reached Date', 'USD Exchange Rate', 'USD Pledged', 'Description Length', 'Goal in USD', \\\r\n",
    "        'Campaign Length', 'Subcategory']\r\n",
    "    df.columns = column_names\r\n",
    "\r\n",
    "\r\n",
    "    # Capitalizing the category and subcategory data points for an easier read\r\n",
    "    df['Primary Category'] = df['Primary Category'].str.title()\r\n",
    "    df['Subcategory'] = df['Subcategory'].str.title()\r\n",
    "\r\n",
    "\r\n",
    "    # Converting date columns to datetime dtype\r\n",
    "    date_columns = ['Campaign Created', 'Deadline', 'Campaign Start', 'Goal Reached Date']\r\n",
    "    df[date_columns] = df[date_columns].apply(pd.to_datetime)\r\n",
    "\r\n",
    "\r\n",
    "    # Dropping columns and rows not applicable to an American audience\r\n",
    "    non_essential_columns = ['Kickstarter_id', 'USD Exchange Rate', 'USD Pledged', 'Goal in USD']\r\n",
    "    df.drop(columns=non_essential_columns, axis=1, inplace=True)\r\n",
    "    df.drop(df.loc[df['Country']!='US'].index, inplace=True)\r\n",
    "\r\n",
    "\r\n",
    "    # Correcting country name with ISO country code name\r\n",
    "    df['Country'] = df['Country'].replace('US', 'USA')\r\n",
    "\r\n",
    "\r\n",
    "    # Filling absent subcategory values with primary category values\r\n",
    "    # We don't want to discredit a product because it cannot qualify\r\n",
    "    # For a granular subcategory\r\n",
    "    df[['Primary Category', 'Subcategory']] = df[['Primary Category', 'Subcategory']].astype(str)\r\n",
    "    df['Subcategory'].fillna(df['Primary Category'], inplace=True)\r\n",
    "\r\n",
    "\r\n",
    "    # Dropping rows with no campaign description\r\n",
    "    # As they may not be serious campaigns\r\n",
    "    # This data may also provide future data leakage indicating campaign failure.\r\n",
    "    df.dropna(axis=0, inplace=True)\r\n",
    "\r\n",
    "\r\n",
    "    # Creating features to indicate goal and pledge amounts per day and per backer\r\n",
    "    # These features can assist campaign success measurements\r\n",
    "    df['Goal Amount Per Backer'] = round(df['Campaign Goal']/df['Backers Count'])\r\n",
    "    df['Pledge Amount Per Backer'] = round(df['Amount Pledged']/df['Backers Count'])\r\n",
    "    df['Goal Amount Per Day'] = round(df['Campaign Goal']/df['Campaign Length'])\r\n",
    "    df['Pledge Amount Per Day'] = round(df['Amount Pledged']/df['Campaign Length'])\r\n",
    "\r\n",
    "\r\n",
    "    # Creating data to quantify the time from campagin creation to start\r\n",
    "    df['Campaign Launch Length'] = df['Campaign Start'].sub(df['Campaign Created'], axis=0)\r\n",
    "\r\n",
    "    # Dropping duplicate rows at the subset level\r\n",
    "    # Using two entries to double verify across both\r\n",
    "    df.drop_duplicates(subset=['Product Name'], keep='first', inplace=True)\r\n",
    "    df.drop_duplicates(subset=['Campaign Description'], keep='first', inplace=True)\r\n",
    "\r\n",
    "    return df"
   ],
   "outputs": [],
   "metadata": {}
  },
  {
   "cell_type": "code",
   "execution_count": 85,
   "source": [
    "df = wrangle(raw_df)\r\n",
    "\r\n",
    "df.head()"
   ],
   "outputs": [
    {
     "output_type": "execute_result",
     "data": {
      "text/plain": [
       "            Backers Count                               Campaign Description  \\\n",
       "id                                                                             \n",
       "1629235715             63                       A Steve Lafler graphic novel   \n",
       "1593905291            132  What happens when two drug-fueled lowlifes fin...   \n",
       "1341470613              6                            A pillow meant for two.   \n",
       "510157690              16  Professional conservation of the 1880's mural ...   \n",
       "147824964              44  We are trying to raise $2,500 for an art proje...   \n",
       "\n",
       "           Primary Category Country Campaign Created   Deadline  \\\n",
       "id                                                                \n",
       "1629235715           Comics     USA       2020-08-27 2020-09-24   \n",
       "1593905291           Comics     USA       2017-01-16 2017-03-16   \n",
       "1341470613           Crafts     USA       2015-02-01 2015-03-05   \n",
       "510157690               Art     USA       2018-10-24 2019-04-24   \n",
       "147824964               Art     USA       2012-06-28 2013-04-05   \n",
       "\n",
       "            Campaign Goal Campaign Start  \\\n",
       "id                                         \n",
       "1629235715          599.0     2020-09-01   \n",
       "1593905291         2000.0     2017-02-14   \n",
       "1341470613          500.0     2015-02-03   \n",
       "510157690         17000.0     2019-03-10   \n",
       "147824964          2500.0     2013-02-04   \n",
       "\n",
       "                                          Product Name  Amount Pledged  ...  \\\n",
       "id                                                                      ...   \n",
       "1629235715    1956 Book One: Sweet Sweet Little Ramona          1942.0  ...   \n",
       "1593905291                              Modern Animals          3097.0  ...   \n",
       "1341470613                        Couples Couch Pillow           211.0  ...   \n",
       "510157690   Downtown Mural Restoration (Ann Arbor, MI)          1368.0  ...   \n",
       "147824964                  The Trade Parade of Ecuador          2506.0  ...   \n",
       "\n",
       "            Status  Goal Reached Date  Description Length Campaign Length  \\\n",
       "id                                                                          \n",
       "1629235715       1         2020-09-24                 5.0              23   \n",
       "1593905291       1         2017-03-16                20.0              30   \n",
       "1341470613       0         2015-03-05                 5.0              30   \n",
       "510157690        0         2019-04-24                18.0              45   \n",
       "147824964        1         2013-04-05                14.0              60   \n",
       "\n",
       "                Subcategory  Goal Amount Per Backer Pledge Amount Per Backer  \\\n",
       "id                                                                             \n",
       "1629235715   Graphic Novels                    10.0                     31.0   \n",
       "1593905291   Graphic Novels                    15.0                     23.0   \n",
       "1341470613              Diy                    83.0                     35.0   \n",
       "510157690          Painting                  1062.0                     86.0   \n",
       "147824964   Performance Art                    57.0                     57.0   \n",
       "\n",
       "            Goal Amount Per Day  Pledge Amount Per Day  Campaign Launch Length  \n",
       "id                                                                              \n",
       "1629235715                 26.0                   84.0                  5 days  \n",
       "1593905291                 67.0                  103.0                 29 days  \n",
       "1341470613                 17.0                    7.0                  2 days  \n",
       "510157690                 378.0                   30.0                137 days  \n",
       "147824964                  42.0                   42.0                221 days  \n",
       "\n",
       "[5 rows x 22 columns]"
      ],
      "text/html": [
       "<div>\n",
       "<style scoped>\n",
       "    .dataframe tbody tr th:only-of-type {\n",
       "        vertical-align: middle;\n",
       "    }\n",
       "\n",
       "    .dataframe tbody tr th {\n",
       "        vertical-align: top;\n",
       "    }\n",
       "\n",
       "    .dataframe thead th {\n",
       "        text-align: right;\n",
       "    }\n",
       "</style>\n",
       "<table border=\"1\" class=\"dataframe\">\n",
       "  <thead>\n",
       "    <tr style=\"text-align: right;\">\n",
       "      <th></th>\n",
       "      <th>Backers Count</th>\n",
       "      <th>Campaign Description</th>\n",
       "      <th>Primary Category</th>\n",
       "      <th>Country</th>\n",
       "      <th>Campaign Created</th>\n",
       "      <th>Deadline</th>\n",
       "      <th>Campaign Goal</th>\n",
       "      <th>Campaign Start</th>\n",
       "      <th>Product Name</th>\n",
       "      <th>Amount Pledged</th>\n",
       "      <th>...</th>\n",
       "      <th>Status</th>\n",
       "      <th>Goal Reached Date</th>\n",
       "      <th>Description Length</th>\n",
       "      <th>Campaign Length</th>\n",
       "      <th>Subcategory</th>\n",
       "      <th>Goal Amount Per Backer</th>\n",
       "      <th>Pledge Amount Per Backer</th>\n",
       "      <th>Goal Amount Per Day</th>\n",
       "      <th>Pledge Amount Per Day</th>\n",
       "      <th>Campaign Launch Length</th>\n",
       "    </tr>\n",
       "    <tr>\n",
       "      <th>id</th>\n",
       "      <th></th>\n",
       "      <th></th>\n",
       "      <th></th>\n",
       "      <th></th>\n",
       "      <th></th>\n",
       "      <th></th>\n",
       "      <th></th>\n",
       "      <th></th>\n",
       "      <th></th>\n",
       "      <th></th>\n",
       "      <th></th>\n",
       "      <th></th>\n",
       "      <th></th>\n",
       "      <th></th>\n",
       "      <th></th>\n",
       "      <th></th>\n",
       "      <th></th>\n",
       "      <th></th>\n",
       "      <th></th>\n",
       "      <th></th>\n",
       "      <th></th>\n",
       "    </tr>\n",
       "  </thead>\n",
       "  <tbody>\n",
       "    <tr>\n",
       "      <th>1629235715</th>\n",
       "      <td>63</td>\n",
       "      <td>A Steve Lafler graphic novel</td>\n",
       "      <td>Comics</td>\n",
       "      <td>USA</td>\n",
       "      <td>2020-08-27</td>\n",
       "      <td>2020-09-24</td>\n",
       "      <td>599.0</td>\n",
       "      <td>2020-09-01</td>\n",
       "      <td>1956 Book One: Sweet Sweet Little Ramona</td>\n",
       "      <td>1942.0</td>\n",
       "      <td>...</td>\n",
       "      <td>1</td>\n",
       "      <td>2020-09-24</td>\n",
       "      <td>5.0</td>\n",
       "      <td>23</td>\n",
       "      <td>Graphic Novels</td>\n",
       "      <td>10.0</td>\n",
       "      <td>31.0</td>\n",
       "      <td>26.0</td>\n",
       "      <td>84.0</td>\n",
       "      <td>5 days</td>\n",
       "    </tr>\n",
       "    <tr>\n",
       "      <th>1593905291</th>\n",
       "      <td>132</td>\n",
       "      <td>What happens when two drug-fueled lowlifes fin...</td>\n",
       "      <td>Comics</td>\n",
       "      <td>USA</td>\n",
       "      <td>2017-01-16</td>\n",
       "      <td>2017-03-16</td>\n",
       "      <td>2000.0</td>\n",
       "      <td>2017-02-14</td>\n",
       "      <td>Modern Animals</td>\n",
       "      <td>3097.0</td>\n",
       "      <td>...</td>\n",
       "      <td>1</td>\n",
       "      <td>2017-03-16</td>\n",
       "      <td>20.0</td>\n",
       "      <td>30</td>\n",
       "      <td>Graphic Novels</td>\n",
       "      <td>15.0</td>\n",
       "      <td>23.0</td>\n",
       "      <td>67.0</td>\n",
       "      <td>103.0</td>\n",
       "      <td>29 days</td>\n",
       "    </tr>\n",
       "    <tr>\n",
       "      <th>1341470613</th>\n",
       "      <td>6</td>\n",
       "      <td>A pillow meant for two.</td>\n",
       "      <td>Crafts</td>\n",
       "      <td>USA</td>\n",
       "      <td>2015-02-01</td>\n",
       "      <td>2015-03-05</td>\n",
       "      <td>500.0</td>\n",
       "      <td>2015-02-03</td>\n",
       "      <td>Couples Couch Pillow</td>\n",
       "      <td>211.0</td>\n",
       "      <td>...</td>\n",
       "      <td>0</td>\n",
       "      <td>2015-03-05</td>\n",
       "      <td>5.0</td>\n",
       "      <td>30</td>\n",
       "      <td>Diy</td>\n",
       "      <td>83.0</td>\n",
       "      <td>35.0</td>\n",
       "      <td>17.0</td>\n",
       "      <td>7.0</td>\n",
       "      <td>2 days</td>\n",
       "    </tr>\n",
       "    <tr>\n",
       "      <th>510157690</th>\n",
       "      <td>16</td>\n",
       "      <td>Professional conservation of the 1880's mural ...</td>\n",
       "      <td>Art</td>\n",
       "      <td>USA</td>\n",
       "      <td>2018-10-24</td>\n",
       "      <td>2019-04-24</td>\n",
       "      <td>17000.0</td>\n",
       "      <td>2019-03-10</td>\n",
       "      <td>Downtown Mural Restoration (Ann Arbor, MI)</td>\n",
       "      <td>1368.0</td>\n",
       "      <td>...</td>\n",
       "      <td>0</td>\n",
       "      <td>2019-04-24</td>\n",
       "      <td>18.0</td>\n",
       "      <td>45</td>\n",
       "      <td>Painting</td>\n",
       "      <td>1062.0</td>\n",
       "      <td>86.0</td>\n",
       "      <td>378.0</td>\n",
       "      <td>30.0</td>\n",
       "      <td>137 days</td>\n",
       "    </tr>\n",
       "    <tr>\n",
       "      <th>147824964</th>\n",
       "      <td>44</td>\n",
       "      <td>We are trying to raise $2,500 for an art proje...</td>\n",
       "      <td>Art</td>\n",
       "      <td>USA</td>\n",
       "      <td>2012-06-28</td>\n",
       "      <td>2013-04-05</td>\n",
       "      <td>2500.0</td>\n",
       "      <td>2013-02-04</td>\n",
       "      <td>The Trade Parade of Ecuador</td>\n",
       "      <td>2506.0</td>\n",
       "      <td>...</td>\n",
       "      <td>1</td>\n",
       "      <td>2013-04-05</td>\n",
       "      <td>14.0</td>\n",
       "      <td>60</td>\n",
       "      <td>Performance Art</td>\n",
       "      <td>57.0</td>\n",
       "      <td>57.0</td>\n",
       "      <td>42.0</td>\n",
       "      <td>42.0</td>\n",
       "      <td>221 days</td>\n",
       "    </tr>\n",
       "  </tbody>\n",
       "</table>\n",
       "<p>5 rows × 22 columns</p>\n",
       "</div>"
      ]
     },
     "metadata": {},
     "execution_count": 85
    }
   ],
   "metadata": {}
  },
  {
   "cell_type": "code",
   "execution_count": 8,
   "source": [
    "df.info()"
   ],
   "outputs": [
    {
     "output_type": "stream",
     "name": "stdout",
     "text": [
      "<class 'pandas.core.frame.DataFrame'>\n",
      "Int64Index: 131714 entries, 1629235715 to 2093445204\n",
      "Data columns (total 22 columns):\n",
      " #   Column                    Non-Null Count   Dtype          \n",
      "---  ------                    --------------   -----          \n",
      " 0   Backers Count             131714 non-null  int64          \n",
      " 1   Campaign Description      131714 non-null  object         \n",
      " 2   Primary Category          131714 non-null  object         \n",
      " 3   Country                   131714 non-null  object         \n",
      " 4   Campaign Created          131714 non-null  datetime64[ns] \n",
      " 5   Deadline                  131714 non-null  datetime64[ns] \n",
      " 6   Campaign Goal             131714 non-null  float64        \n",
      " 7   Campaign Start            131714 non-null  datetime64[ns] \n",
      " 8   Product Name              131714 non-null  object         \n",
      " 9   Amount Pledged            131714 non-null  float64        \n",
      " 10  Product Spotlight         131714 non-null  int64          \n",
      " 11  Staff Pick                131714 non-null  int64          \n",
      " 12  Status                    131714 non-null  int64          \n",
      " 13  Goal Reached Date         131714 non-null  datetime64[ns] \n",
      " 14  Description Length        131714 non-null  float64        \n",
      " 15  Campaign Length           131714 non-null  int64          \n",
      " 16  Subcategory               131714 non-null  object         \n",
      " 17  Goal Amount Per Backer    131714 non-null  float64        \n",
      " 18  Pledge Amount Per Backer  121160 non-null  float64        \n",
      " 19  Goal Amount Per Day       131714 non-null  float64        \n",
      " 20  Pledge Amount Per Day     131714 non-null  float64        \n",
      " 21  Campaign Launch Length    131714 non-null  timedelta64[ns]\n",
      "dtypes: datetime64[ns](4), float64(7), int64(5), object(5), timedelta64[ns](1)\n",
      "memory usage: 23.1+ MB\n"
     ]
    }
   ],
   "metadata": {}
  },
  {
   "cell_type": "code",
   "execution_count": 23,
   "source": [
    "df['Product Name'].value_counts()"
   ],
   "outputs": [
    {
     "output_type": "execute_result",
     "data": {
      "text/plain": [
       "REMASTER Neutral Milk Hotel's \"Invent Yourself a Shortcake\"    1\n",
       "Santa Is Coming To Town!                                       1\n",
       "Shining Some Light on the Dark                                 1\n",
       "Embracing Change--Time For Naughty Girls To Move or Expand     1\n",
       "Abe's Swing Ring--Change your ring in the blink of an eye!     1\n",
       "                                                              ..\n",
       "Mycaricom.org: Public Data for the Caribbean Community.        1\n",
       "Because My History Matters                                     1\n",
       "THE ORION EXPERIENCE: CHILDREN OF THE STARS                    1\n",
       "Attack on Titan Hard Enamel Pins, Stickers & Mini Prints!      1\n",
       "Designer Shoes YOU Customize on the Fly -Create 100+ Looks     1\n",
       "Name: Product Name, Length: 131714, dtype: int64"
      ]
     },
     "metadata": {},
     "execution_count": 23
    }
   ],
   "metadata": {}
  },
  {
   "cell_type": "code",
   "execution_count": 24,
   "source": [
    "df['Campaign Description'].value_counts()"
   ],
   "outputs": [
    {
     "output_type": "execute_result",
     "data": {
      "text/plain": [
       "INDOOR SKATE PARK! San Antonio needs this! Location secured, featuring skate park, pool table, lounge area, shop etc...                  1\n",
       "She needs some help to pull together financing to finalize this powerful collection. Step up! Be part of shaping our art and history.    1\n",
       "10 Years in the making. An extensively researched comic book documentary on the 1960s Underground Press!                                 1\n",
       "1\" Banana Fish Hard Enamel Pins!                                                                                                         1\n",
       "A redesign of my Might of Mythology installation on the universality of imagination as it is relayed through myths.                      1\n",
       "                                                                                                                                        ..\n",
       "Breadfruit Chips is the tropical sensation with a great taste and nutritional goodness for your guilt -free snacking pleasures.          1\n",
       "A collection of songs based on all things Dark, Wintry and Beautiful. Pushing into a new musical realm. Soon to be Daddy of Twins!       1\n",
       "The second release in a deck series inspired by the Periodic Table of Elements. Printed by USPCC with metallic ink.                      1\n",
       "A children's ABC book following the adventures of two curious monsters.                                                                  1\n",
       "Vermont's 1919 movie theater needs a digital projector.  We're not there yet!                                                            1\n",
       "Name: Campaign Description, Length: 131714, dtype: int64"
      ]
     },
     "metadata": {},
     "execution_count": 24
    }
   ],
   "metadata": {}
  },
  {
   "cell_type": "code",
   "execution_count": 11,
   "source": [
    "df_length = len(df)\r\n",
    "\r\n",
    "print('Length of the dataframe:', df_length)"
   ],
   "outputs": [
    {
     "output_type": "stream",
     "name": "stdout",
     "text": [
      "Length of the dataframe: 131714\n"
     ]
    }
   ],
   "metadata": {}
  },
  {
   "cell_type": "code",
   "execution_count": 12,
   "source": [
    "product_counts_len = len(df['Product Name'].value_counts())\r\n",
    "\r\n",
    "print('Length of Product Name counts:', product_counts_len)"
   ],
   "outputs": [
    {
     "output_type": "stream",
     "name": "stdout",
     "text": [
      "Length of Product Name counts: 131714\n"
     ]
    }
   ],
   "metadata": {}
  },
  {
   "cell_type": "code",
   "execution_count": 13,
   "source": [
    "description_counts_length = len(df['Campaign Description'].value_counts())\r\n",
    "\r\n",
    "print('Length of Product Name counts:', description_counts_length)"
   ],
   "outputs": [
    {
     "output_type": "stream",
     "name": "stdout",
     "text": [
      "Length of Product Name counts: 131714\n"
     ]
    }
   ],
   "metadata": {}
  },
  {
   "cell_type": "code",
   "execution_count": 14,
   "source": [
    "print(df_length == product_counts_len)\r\n",
    "print(df_length == description_counts_length)"
   ],
   "outputs": [
    {
     "output_type": "stream",
     "name": "stdout",
     "text": [
      "True\n",
      "True\n"
     ]
    }
   ],
   "metadata": {}
  },
  {
   "cell_type": "markdown",
   "source": [
    "# Data Visualization\r\n"
   ],
   "metadata": {}
  },
  {
   "cell_type": "markdown",
   "source": [
    "# Modeling"
   ],
   "metadata": {}
  },
  {
   "cell_type": "code",
   "execution_count": 15,
   "source": [
    "from sklearn.linear_model import LogisticRegression\r\n",
    "from sklearn.pipeline import make_pipeline\r\n",
    "from category_encoders import OneHotEncoder, OrdinalEncoder\r\n",
    "from sklearn.impute import SimpleImputer\r\n",
    "from sklearn.preprocessing import StandardScaler\r\n",
    "from sklearn.ensemble import GradientBoostingClassifier\r\n",
    "from sklearn.model_selection import train_test_split, cross_val_score, validation_curve, RandomizedSearchCV\r\n"
   ],
   "outputs": [],
   "metadata": {}
  },
  {
   "cell_type": "code",
   "execution_count": 16,
   "source": [
    "# Establishing feature matrix and y vector.\r\n",
    "\r\n",
    "target = 'Status'\r\n",
    "\r\n",
    "X = df.drop(columns=target)\r\n",
    "y = df[target]\r\n",
    "\r\n",
    "print(X.shape)\r\n",
    "print(y.shape)\r\n",
    "print(\"The matrix and vector are the same length:\", (len(y) == len(X)))"
   ],
   "outputs": [
    {
     "output_type": "stream",
     "name": "stdout",
     "text": [
      "(131714, 21)\n",
      "(131714,)\n",
      "The matrix and vector are the same length: True\n"
     ]
    }
   ],
   "metadata": {}
  },
  {
   "cell_type": "markdown",
   "source": [
    "# NLP Assessment"
   ],
   "metadata": {}
  },
  {
   "cell_type": "markdown",
   "source": [
    "## NLP Library Imports"
   ],
   "metadata": {}
  },
  {
   "cell_type": "code",
   "execution_count": 43,
   "source": [
    "# Base\r\n",
    "from collections import Counter\r\n",
    "\r\n",
    "# SKLearn \r\n",
    "from sklearn.feature_extraction.text import CountVectorizer, TfidfVectorizer\r\n",
    "from sklearn.metrics.pairwise import cosine_similarity\r\n",
    "from sklearn.neighbors import NearestNeighbors\r\n",
    "from sklearn.decomposition import PCA"
   ],
   "outputs": [],
   "metadata": {}
  },
  {
   "cell_type": "code",
   "execution_count": 42,
   "source": [
    "#!python -m spacy download en_core_web_md\r\n",
    "# NLP Libraries\r\n",
    "import spacy\r\n",
    "from spacy.tokenizer import Tokenizer\r\n",
    "from nltk.stem import PorterStemmer\r\n",
    "import re\r\n",
    "#nlp = spacy.load('en_core_web_md')"
   ],
   "outputs": [],
   "metadata": {}
  },
  {
   "cell_type": "code",
   "execution_count": 44,
   "source": [
    "#!pip install squarify\r\n",
    "# Plotting\r\n",
    "import squarify\r\n",
    "import matplotlib.pyplot as plt\r\n",
    "import seaborn as sns"
   ],
   "outputs": [],
   "metadata": {}
  },
  {
   "cell_type": "markdown",
   "source": [
    "## NLP Data Wrangling"
   ],
   "metadata": {}
  },
  {
   "cell_type": "code",
   "execution_count": 86,
   "source": [
    " def nlp_wrangle(df):\r\n",
    "\r\n",
    "    non_text_cols = ['Backers Count', 'Primary Category', \\\r\n",
    "        'Country', 'Campaign Created', 'Deadline', 'Campaign Goal', 'Campaign Start', \\\r\n",
    "        'Amount Pledged', 'Product Spotlight', 'Staff Pick', \\\r\n",
    "        'Goal Reached Date', 'Description Length', 'Campaign Length', 'Subcategory', \\\r\n",
    "        'Goal Amount Per Backer', 'Pledge Amount Per Backer', 'Goal Amount Per Day', \\\r\n",
    "        'Pledge Amount Per Day', 'Campaign Launch Length']\r\n",
    "    df.drop(columns=non_text_cols, axis=1, inplace=True)\r\n",
    "\r\n",
    "    df['Campaign Description'] = df['Campaign Description'].values.astype(str)\r\n",
    "\r\n",
    "    df['Product Name'] = df['Product Name'].values.astype(str)\r\n",
    "\r\n",
    "    return df"
   ],
   "outputs": [],
   "metadata": {}
  },
  {
   "cell_type": "code",
   "execution_count": 87,
   "source": [
    "txt_df = nlp_wrangle(df)"
   ],
   "outputs": [],
   "metadata": {}
  },
  {
   "cell_type": "code",
   "execution_count": 88,
   "source": [
    "txt_df.head()"
   ],
   "outputs": [
    {
     "output_type": "execute_result",
     "data": {
      "text/plain": [
       "                                         Campaign Description  \\\n",
       "id                                                              \n",
       "1629235715                       A Steve Lafler graphic novel   \n",
       "1593905291  What happens when two drug-fueled lowlifes fin...   \n",
       "1341470613                            A pillow meant for two.   \n",
       "510157690   Professional conservation of the 1880's mural ...   \n",
       "147824964   We are trying to raise $2,500 for an art proje...   \n",
       "\n",
       "                                          Product Name  Status  \n",
       "id                                                              \n",
       "1629235715    1956 Book One: Sweet Sweet Little Ramona       1  \n",
       "1593905291                              Modern Animals       1  \n",
       "1341470613                        Couples Couch Pillow       0  \n",
       "510157690   Downtown Mural Restoration (Ann Arbor, MI)       0  \n",
       "147824964                  The Trade Parade of Ecuador       1  "
      ],
      "text/html": [
       "<div>\n",
       "<style scoped>\n",
       "    .dataframe tbody tr th:only-of-type {\n",
       "        vertical-align: middle;\n",
       "    }\n",
       "\n",
       "    .dataframe tbody tr th {\n",
       "        vertical-align: top;\n",
       "    }\n",
       "\n",
       "    .dataframe thead th {\n",
       "        text-align: right;\n",
       "    }\n",
       "</style>\n",
       "<table border=\"1\" class=\"dataframe\">\n",
       "  <thead>\n",
       "    <tr style=\"text-align: right;\">\n",
       "      <th></th>\n",
       "      <th>Campaign Description</th>\n",
       "      <th>Product Name</th>\n",
       "      <th>Status</th>\n",
       "    </tr>\n",
       "    <tr>\n",
       "      <th>id</th>\n",
       "      <th></th>\n",
       "      <th></th>\n",
       "      <th></th>\n",
       "    </tr>\n",
       "  </thead>\n",
       "  <tbody>\n",
       "    <tr>\n",
       "      <th>1629235715</th>\n",
       "      <td>A Steve Lafler graphic novel</td>\n",
       "      <td>1956 Book One: Sweet Sweet Little Ramona</td>\n",
       "      <td>1</td>\n",
       "    </tr>\n",
       "    <tr>\n",
       "      <th>1593905291</th>\n",
       "      <td>What happens when two drug-fueled lowlifes fin...</td>\n",
       "      <td>Modern Animals</td>\n",
       "      <td>1</td>\n",
       "    </tr>\n",
       "    <tr>\n",
       "      <th>1341470613</th>\n",
       "      <td>A pillow meant for two.</td>\n",
       "      <td>Couples Couch Pillow</td>\n",
       "      <td>0</td>\n",
       "    </tr>\n",
       "    <tr>\n",
       "      <th>510157690</th>\n",
       "      <td>Professional conservation of the 1880's mural ...</td>\n",
       "      <td>Downtown Mural Restoration (Ann Arbor, MI)</td>\n",
       "      <td>0</td>\n",
       "    </tr>\n",
       "    <tr>\n",
       "      <th>147824964</th>\n",
       "      <td>We are trying to raise $2,500 for an art proje...</td>\n",
       "      <td>The Trade Parade of Ecuador</td>\n",
       "      <td>1</td>\n",
       "    </tr>\n",
       "  </tbody>\n",
       "</table>\n",
       "</div>"
      ]
     },
     "metadata": {},
     "execution_count": 88
    }
   ],
   "metadata": {}
  },
  {
   "cell_type": "markdown",
   "source": [
    "## NLP EDA"
   ],
   "metadata": {}
  },
  {
   "cell_type": "code",
   "execution_count": 81,
   "source": [
    "txt_df.info()"
   ],
   "outputs": [
    {
     "output_type": "stream",
     "name": "stdout",
     "text": [
      "<class 'pandas.core.frame.DataFrame'>\n",
      "Int64Index: 131714 entries, 1629235715 to 2093445204\n",
      "Data columns (total 3 columns):\n",
      " #   Column                Non-Null Count   Dtype \n",
      "---  ------                --------------   ----- \n",
      " 0   Campaign Description  131714 non-null  object\n",
      " 1   Product Name          131714 non-null  object\n",
      " 2   Status                131714 non-null  int64 \n",
      "dtypes: int64(1), object(2)\n",
      "memory usage: 4.0+ MB\n"
     ]
    }
   ],
   "metadata": {}
  },
  {
   "cell_type": "code",
   "execution_count": 29,
   "source": [
    "max_Campaign_Description = txt_df['Campaign Description'].apply(len).max()\r\n",
    "print('Max Campaign Description length:', max_Campaign_Description)\r\n",
    "txt_df[txt_df['Campaign Description'].apply(len)==196]"
   ],
   "outputs": [
    {
     "output_type": "stream",
     "name": "stdout",
     "text": [
      "Max Campaign Description length: 196\n"
     ]
    },
    {
     "output_type": "execute_result",
     "data": {
      "text/plain": [
       "                                        Campaign Description  \\\n",
       "id                                                             \n",
       "933275417  An experimental dance film exploring identity ...   \n",
       "\n",
       "                                  Product Name  Status  \n",
       "id                                                      \n",
       "933275417  Fruition of FORMS OF IDENTIFICATION       1  "
      ],
      "text/html": [
       "<div>\n",
       "<style scoped>\n",
       "    .dataframe tbody tr th:only-of-type {\n",
       "        vertical-align: middle;\n",
       "    }\n",
       "\n",
       "    .dataframe tbody tr th {\n",
       "        vertical-align: top;\n",
       "    }\n",
       "\n",
       "    .dataframe thead th {\n",
       "        text-align: right;\n",
       "    }\n",
       "</style>\n",
       "<table border=\"1\" class=\"dataframe\">\n",
       "  <thead>\n",
       "    <tr style=\"text-align: right;\">\n",
       "      <th></th>\n",
       "      <th>Campaign Description</th>\n",
       "      <th>Product Name</th>\n",
       "      <th>Status</th>\n",
       "    </tr>\n",
       "    <tr>\n",
       "      <th>id</th>\n",
       "      <th></th>\n",
       "      <th></th>\n",
       "      <th></th>\n",
       "    </tr>\n",
       "  </thead>\n",
       "  <tbody>\n",
       "    <tr>\n",
       "      <th>933275417</th>\n",
       "      <td>An experimental dance film exploring identity ...</td>\n",
       "      <td>Fruition of FORMS OF IDENTIFICATION</td>\n",
       "      <td>1</td>\n",
       "    </tr>\n",
       "  </tbody>\n",
       "</table>\n",
       "</div>"
      ]
     },
     "metadata": {},
     "execution_count": 29
    }
   ],
   "metadata": {}
  },
  {
   "cell_type": "code",
   "execution_count": 30,
   "source": [
    "min_Campaign_Description = txt_df['Campaign Description'].apply(len).min()\r\n",
    "print('Min Campaign Description length:', min_Campaign_Description)\r\n",
    "txt_df[txt_df['Campaign Description'].apply(len)==1]"
   ],
   "outputs": [
    {
     "output_type": "stream",
     "name": "stdout",
     "text": [
      "Min Campaign Description length: 1\n"
     ]
    },
    {
     "output_type": "execute_result",
     "data": {
      "text/plain": [
       "           Campaign Description  \\\n",
       "id                                \n",
       "1711857183                    .   \n",
       "1813785118                    1   \n",
       "224219885                     -   \n",
       "970987098                     2   \n",
       "1689759121                    I   \n",
       "1702555614                    C   \n",
       "332892786                     q   \n",
       "892070971                     x   \n",
       "\n",
       "                                                 Product Name  Status  \n",
       "id                                                                     \n",
       "1711857183  Beacons To Guide Me Home - a new album by Gayl...       1  \n",
       "1813785118                                       a (Canceled)       0  \n",
       "224219885   \"Reflections\" Composition Debut Album by Karen...       1  \n",
       "970987098                                       co (Canceled)       0  \n",
       "1689759121                                       I (Canceled)       0  \n",
       "1702555614                           test campaign (Canceled)       0  \n",
       "332892786                                 investor (Canceled)       0  \n",
       "892070971                                                   x       0  "
      ],
      "text/html": [
       "<div>\n",
       "<style scoped>\n",
       "    .dataframe tbody tr th:only-of-type {\n",
       "        vertical-align: middle;\n",
       "    }\n",
       "\n",
       "    .dataframe tbody tr th {\n",
       "        vertical-align: top;\n",
       "    }\n",
       "\n",
       "    .dataframe thead th {\n",
       "        text-align: right;\n",
       "    }\n",
       "</style>\n",
       "<table border=\"1\" class=\"dataframe\">\n",
       "  <thead>\n",
       "    <tr style=\"text-align: right;\">\n",
       "      <th></th>\n",
       "      <th>Campaign Description</th>\n",
       "      <th>Product Name</th>\n",
       "      <th>Status</th>\n",
       "    </tr>\n",
       "    <tr>\n",
       "      <th>id</th>\n",
       "      <th></th>\n",
       "      <th></th>\n",
       "      <th></th>\n",
       "    </tr>\n",
       "  </thead>\n",
       "  <tbody>\n",
       "    <tr>\n",
       "      <th>1711857183</th>\n",
       "      <td>.</td>\n",
       "      <td>Beacons To Guide Me Home - a new album by Gayl...</td>\n",
       "      <td>1</td>\n",
       "    </tr>\n",
       "    <tr>\n",
       "      <th>1813785118</th>\n",
       "      <td>1</td>\n",
       "      <td>a (Canceled)</td>\n",
       "      <td>0</td>\n",
       "    </tr>\n",
       "    <tr>\n",
       "      <th>224219885</th>\n",
       "      <td>-</td>\n",
       "      <td>\"Reflections\" Composition Debut Album by Karen...</td>\n",
       "      <td>1</td>\n",
       "    </tr>\n",
       "    <tr>\n",
       "      <th>970987098</th>\n",
       "      <td>2</td>\n",
       "      <td>co (Canceled)</td>\n",
       "      <td>0</td>\n",
       "    </tr>\n",
       "    <tr>\n",
       "      <th>1689759121</th>\n",
       "      <td>I</td>\n",
       "      <td>I (Canceled)</td>\n",
       "      <td>0</td>\n",
       "    </tr>\n",
       "    <tr>\n",
       "      <th>1702555614</th>\n",
       "      <td>C</td>\n",
       "      <td>test campaign (Canceled)</td>\n",
       "      <td>0</td>\n",
       "    </tr>\n",
       "    <tr>\n",
       "      <th>332892786</th>\n",
       "      <td>q</td>\n",
       "      <td>investor (Canceled)</td>\n",
       "      <td>0</td>\n",
       "    </tr>\n",
       "    <tr>\n",
       "      <th>892070971</th>\n",
       "      <td>x</td>\n",
       "      <td>x</td>\n",
       "      <td>0</td>\n",
       "    </tr>\n",
       "  </tbody>\n",
       "</table>\n",
       "</div>"
      ]
     },
     "metadata": {},
     "execution_count": 30
    }
   ],
   "metadata": {}
  },
  {
   "cell_type": "code",
   "execution_count": 32,
   "source": [
    "max_Product_Name = txt_df['Product Name'].apply(len).max()\r\n",
    "print('Max Product Name length:', max_Product_Name)\r\n",
    "txt_df[txt_df['Product Name'].apply(len)==96]"
   ],
   "outputs": [
    {
     "output_type": "stream",
     "name": "stdout",
     "text": [
      "Max Product Name length: 96\n"
     ]
    },
    {
     "output_type": "execute_result",
     "data": {
      "text/plain": [
       "                                        Campaign Description  \\\n",
       "id                                                             \n",
       "502572445  Create collaborative designs for a community M...   \n",
       "\n",
       "                                                Product Name  Status  \n",
       "id                                                                    \n",
       "502572445  Design for Mosaic Sculpture Playground and Mos...       0  "
      ],
      "text/html": [
       "<div>\n",
       "<style scoped>\n",
       "    .dataframe tbody tr th:only-of-type {\n",
       "        vertical-align: middle;\n",
       "    }\n",
       "\n",
       "    .dataframe tbody tr th {\n",
       "        vertical-align: top;\n",
       "    }\n",
       "\n",
       "    .dataframe thead th {\n",
       "        text-align: right;\n",
       "    }\n",
       "</style>\n",
       "<table border=\"1\" class=\"dataframe\">\n",
       "  <thead>\n",
       "    <tr style=\"text-align: right;\">\n",
       "      <th></th>\n",
       "      <th>Campaign Description</th>\n",
       "      <th>Product Name</th>\n",
       "      <th>Status</th>\n",
       "    </tr>\n",
       "    <tr>\n",
       "      <th>id</th>\n",
       "      <th></th>\n",
       "      <th></th>\n",
       "      <th></th>\n",
       "    </tr>\n",
       "  </thead>\n",
       "  <tbody>\n",
       "    <tr>\n",
       "      <th>502572445</th>\n",
       "      <td>Create collaborative designs for a community M...</td>\n",
       "      <td>Design for Mosaic Sculpture Playground and Mos...</td>\n",
       "      <td>0</td>\n",
       "    </tr>\n",
       "  </tbody>\n",
       "</table>\n",
       "</div>"
      ]
     },
     "metadata": {},
     "execution_count": 32
    }
   ],
   "metadata": {}
  },
  {
   "cell_type": "code",
   "execution_count": 36,
   "source": [
    "min_Product_Name = txt_df['Product Name'].apply(len).min()\r\n",
    "print('Min Product Name length:', min_Product_Name)\r\n",
    "txt_df[txt_df['Product Name'].apply(len)==1]"
   ],
   "outputs": [
    {
     "output_type": "stream",
     "name": "stdout",
     "text": [
      "Min Product Name length: 1\n"
     ]
    },
    {
     "output_type": "execute_result",
     "data": {
      "text/plain": [
       "          Campaign Description Product Name  Status\n",
       "id                                                 \n",
       "892070971                    x            x       0"
      ],
      "text/html": [
       "<div>\n",
       "<style scoped>\n",
       "    .dataframe tbody tr th:only-of-type {\n",
       "        vertical-align: middle;\n",
       "    }\n",
       "\n",
       "    .dataframe tbody tr th {\n",
       "        vertical-align: top;\n",
       "    }\n",
       "\n",
       "    .dataframe thead th {\n",
       "        text-align: right;\n",
       "    }\n",
       "</style>\n",
       "<table border=\"1\" class=\"dataframe\">\n",
       "  <thead>\n",
       "    <tr style=\"text-align: right;\">\n",
       "      <th></th>\n",
       "      <th>Campaign Description</th>\n",
       "      <th>Product Name</th>\n",
       "      <th>Status</th>\n",
       "    </tr>\n",
       "    <tr>\n",
       "      <th>id</th>\n",
       "      <th></th>\n",
       "      <th></th>\n",
       "      <th></th>\n",
       "    </tr>\n",
       "  </thead>\n",
       "  <tbody>\n",
       "    <tr>\n",
       "      <th>892070971</th>\n",
       "      <td>x</td>\n",
       "      <td>x</td>\n",
       "      <td>0</td>\n",
       "    </tr>\n",
       "  </tbody>\n",
       "</table>\n",
       "</div>"
      ]
     },
     "metadata": {},
     "execution_count": 36
    }
   ],
   "metadata": {}
  },
  {
   "cell_type": "markdown",
   "source": [
    "## NLP Feature Engineering"
   ],
   "metadata": {}
  },
  {
   "cell_type": "code",
   "execution_count": 62,
   "source": [
    "txt_df['Product Name Char Length'] = txt_df['Product Name'].apply(len)\r\n",
    "\r\n",
    "txt_df.head()"
   ],
   "outputs": [
    {
     "output_type": "execute_result",
     "data": {
      "text/plain": [
       "                                         Campaign Description  \\\n",
       "id                                                              \n",
       "1629235715                       A Steve Lafler graphic novel   \n",
       "1593905291  What happens when two drug-fueled lowlifes fin...   \n",
       "1341470613                            A pillow meant for two.   \n",
       "510157690   Professional conservation of the 1880's mural ...   \n",
       "147824964   We are trying to raise $2,500 for an art proje...   \n",
       "\n",
       "                                          Product Name  Status  \\\n",
       "id                                                               \n",
       "1629235715    1956 Book One: Sweet Sweet Little Ramona       1   \n",
       "1593905291                              Modern Animals       1   \n",
       "1341470613                        Couples Couch Pillow       0   \n",
       "510157690   Downtown Mural Restoration (Ann Arbor, MI)       0   \n",
       "147824964                  The Trade Parade of Ecuador       1   \n",
       "\n",
       "            Product Name Char Length  Description Char Length  \n",
       "id                                                             \n",
       "1629235715                        40                       28  \n",
       "1593905291                        14                      130  \n",
       "1341470613                        20                       23  \n",
       "510157690                         42                      120  \n",
       "147824964                         27                       73  "
      ],
      "text/html": [
       "<div>\n",
       "<style scoped>\n",
       "    .dataframe tbody tr th:only-of-type {\n",
       "        vertical-align: middle;\n",
       "    }\n",
       "\n",
       "    .dataframe tbody tr th {\n",
       "        vertical-align: top;\n",
       "    }\n",
       "\n",
       "    .dataframe thead th {\n",
       "        text-align: right;\n",
       "    }\n",
       "</style>\n",
       "<table border=\"1\" class=\"dataframe\">\n",
       "  <thead>\n",
       "    <tr style=\"text-align: right;\">\n",
       "      <th></th>\n",
       "      <th>Campaign Description</th>\n",
       "      <th>Product Name</th>\n",
       "      <th>Status</th>\n",
       "      <th>Product Name Char Length</th>\n",
       "      <th>Description Char Length</th>\n",
       "    </tr>\n",
       "    <tr>\n",
       "      <th>id</th>\n",
       "      <th></th>\n",
       "      <th></th>\n",
       "      <th></th>\n",
       "      <th></th>\n",
       "      <th></th>\n",
       "    </tr>\n",
       "  </thead>\n",
       "  <tbody>\n",
       "    <tr>\n",
       "      <th>1629235715</th>\n",
       "      <td>A Steve Lafler graphic novel</td>\n",
       "      <td>1956 Book One: Sweet Sweet Little Ramona</td>\n",
       "      <td>1</td>\n",
       "      <td>40</td>\n",
       "      <td>28</td>\n",
       "    </tr>\n",
       "    <tr>\n",
       "      <th>1593905291</th>\n",
       "      <td>What happens when two drug-fueled lowlifes fin...</td>\n",
       "      <td>Modern Animals</td>\n",
       "      <td>1</td>\n",
       "      <td>14</td>\n",
       "      <td>130</td>\n",
       "    </tr>\n",
       "    <tr>\n",
       "      <th>1341470613</th>\n",
       "      <td>A pillow meant for two.</td>\n",
       "      <td>Couples Couch Pillow</td>\n",
       "      <td>0</td>\n",
       "      <td>20</td>\n",
       "      <td>23</td>\n",
       "    </tr>\n",
       "    <tr>\n",
       "      <th>510157690</th>\n",
       "      <td>Professional conservation of the 1880's mural ...</td>\n",
       "      <td>Downtown Mural Restoration (Ann Arbor, MI)</td>\n",
       "      <td>0</td>\n",
       "      <td>42</td>\n",
       "      <td>120</td>\n",
       "    </tr>\n",
       "    <tr>\n",
       "      <th>147824964</th>\n",
       "      <td>We are trying to raise $2,500 for an art proje...</td>\n",
       "      <td>The Trade Parade of Ecuador</td>\n",
       "      <td>1</td>\n",
       "      <td>27</td>\n",
       "      <td>73</td>\n",
       "    </tr>\n",
       "  </tbody>\n",
       "</table>\n",
       "</div>"
      ]
     },
     "metadata": {},
     "execution_count": 62
    }
   ],
   "metadata": {}
  },
  {
   "cell_type": "code",
   "execution_count": 57,
   "source": [
    "txt_df['Description Char Length'] = txt_df['Campaign Description'].apply(len)\r\n",
    "\r\n",
    "txt_df.head()"
   ],
   "outputs": [
    {
     "output_type": "execute_result",
     "data": {
      "text/plain": [
       "                                         Campaign Description  \\\n",
       "id                                                              \n",
       "1629235715                       A Steve Lafler graphic novel   \n",
       "1593905291  What happens when two drug-fueled lowlifes fin...   \n",
       "1341470613                            A pillow meant for two.   \n",
       "510157690   Professional conservation of the 1880's mural ...   \n",
       "147824964   We are trying to raise $2,500 for an art proje...   \n",
       "\n",
       "                                          Product Name  Status  \\\n",
       "id                                                               \n",
       "1629235715    1956 Book One: Sweet Sweet Little Ramona       1   \n",
       "1593905291                              Modern Animals       1   \n",
       "1341470613                        Couples Couch Pillow       0   \n",
       "510157690   Downtown Mural Restoration (Ann Arbor, MI)       0   \n",
       "147824964                  The Trade Parade of Ecuador       1   \n",
       "\n",
       "            Product Name Char Length  Description Char Length  \n",
       "id                                                             \n",
       "1629235715                        40                       28  \n",
       "1593905291                        14                      130  \n",
       "1341470613                        20                       23  \n",
       "510157690                         42                      120  \n",
       "147824964                         27                       73  "
      ],
      "text/html": [
       "<div>\n",
       "<style scoped>\n",
       "    .dataframe tbody tr th:only-of-type {\n",
       "        vertical-align: middle;\n",
       "    }\n",
       "\n",
       "    .dataframe tbody tr th {\n",
       "        vertical-align: top;\n",
       "    }\n",
       "\n",
       "    .dataframe thead th {\n",
       "        text-align: right;\n",
       "    }\n",
       "</style>\n",
       "<table border=\"1\" class=\"dataframe\">\n",
       "  <thead>\n",
       "    <tr style=\"text-align: right;\">\n",
       "      <th></th>\n",
       "      <th>Campaign Description</th>\n",
       "      <th>Product Name</th>\n",
       "      <th>Status</th>\n",
       "      <th>Product Name Char Length</th>\n",
       "      <th>Description Char Length</th>\n",
       "    </tr>\n",
       "    <tr>\n",
       "      <th>id</th>\n",
       "      <th></th>\n",
       "      <th></th>\n",
       "      <th></th>\n",
       "      <th></th>\n",
       "      <th></th>\n",
       "    </tr>\n",
       "  </thead>\n",
       "  <tbody>\n",
       "    <tr>\n",
       "      <th>1629235715</th>\n",
       "      <td>A Steve Lafler graphic novel</td>\n",
       "      <td>1956 Book One: Sweet Sweet Little Ramona</td>\n",
       "      <td>1</td>\n",
       "      <td>40</td>\n",
       "      <td>28</td>\n",
       "    </tr>\n",
       "    <tr>\n",
       "      <th>1593905291</th>\n",
       "      <td>What happens when two drug-fueled lowlifes fin...</td>\n",
       "      <td>Modern Animals</td>\n",
       "      <td>1</td>\n",
       "      <td>14</td>\n",
       "      <td>130</td>\n",
       "    </tr>\n",
       "    <tr>\n",
       "      <th>1341470613</th>\n",
       "      <td>A pillow meant for two.</td>\n",
       "      <td>Couples Couch Pillow</td>\n",
       "      <td>0</td>\n",
       "      <td>20</td>\n",
       "      <td>23</td>\n",
       "    </tr>\n",
       "    <tr>\n",
       "      <th>510157690</th>\n",
       "      <td>Professional conservation of the 1880's mural ...</td>\n",
       "      <td>Downtown Mural Restoration (Ann Arbor, MI)</td>\n",
       "      <td>0</td>\n",
       "      <td>42</td>\n",
       "      <td>120</td>\n",
       "    </tr>\n",
       "    <tr>\n",
       "      <th>147824964</th>\n",
       "      <td>We are trying to raise $2,500 for an art proje...</td>\n",
       "      <td>The Trade Parade of Ecuador</td>\n",
       "      <td>1</td>\n",
       "      <td>27</td>\n",
       "      <td>73</td>\n",
       "    </tr>\n",
       "  </tbody>\n",
       "</table>\n",
       "</div>"
      ]
     },
     "metadata": {},
     "execution_count": 57
    }
   ],
   "metadata": {}
  },
  {
   "cell_type": "code",
   "execution_count": 90,
   "source": [
    "type(txt_df['Product Name'])"
   ],
   "outputs": [
    {
     "output_type": "execute_result",
     "data": {
      "text/plain": [
       "pandas.core.series.Series"
      ]
     },
     "metadata": {},
     "execution_count": 90
    }
   ],
   "metadata": {}
  },
  {
   "cell_type": "code",
   "execution_count": 94,
   "source": [
    "type(df['Product Name'].iloc[0])"
   ],
   "outputs": [
    {
     "output_type": "execute_result",
     "data": {
      "text/plain": [
       "str"
      ]
     },
     "metadata": {},
     "execution_count": 94
    }
   ],
   "metadata": {}
  },
  {
   "cell_type": "code",
   "execution_count": 92,
   "source": [
    "df['Product Name'].astype('str').dtypes"
   ],
   "outputs": [
    {
     "output_type": "execute_result",
     "data": {
      "text/plain": [
       "dtype('O')"
      ]
     },
     "metadata": {},
     "execution_count": 92
    }
   ],
   "metadata": {}
  },
  {
   "cell_type": "code",
   "execution_count": 93,
   "source": [
    "df['Product Name'].astype(str).dtypes"
   ],
   "outputs": [
    {
     "output_type": "execute_result",
     "data": {
      "text/plain": [
       "dtype('O')"
      ]
     },
     "metadata": {},
     "execution_count": 93
    }
   ],
   "metadata": {}
  },
  {
   "cell_type": "code",
   "execution_count": 91,
   "source": [
    "txt_df['Product Name'][0]"
   ],
   "outputs": [
    {
     "output_type": "error",
     "ename": "KeyError",
     "evalue": "0",
     "traceback": [
      "\u001b[1;31m---------------------------------------------------------------------------\u001b[0m",
      "\u001b[1;31mKeyError\u001b[0m                                  Traceback (most recent call last)",
      "\u001b[1;32m~\\anaconda3\\lib\\site-packages\\pandas\\core\\indexes\\base.py\u001b[0m in \u001b[0;36mget_loc\u001b[1;34m(self, key, method, tolerance)\u001b[0m\n\u001b[0;32m   3079\u001b[0m             \u001b[1;32mtry\u001b[0m\u001b[1;33m:\u001b[0m\u001b[1;33m\u001b[0m\u001b[1;33m\u001b[0m\u001b[0m\n\u001b[1;32m-> 3080\u001b[1;33m                 \u001b[1;32mreturn\u001b[0m \u001b[0mself\u001b[0m\u001b[1;33m.\u001b[0m\u001b[0m_engine\u001b[0m\u001b[1;33m.\u001b[0m\u001b[0mget_loc\u001b[0m\u001b[1;33m(\u001b[0m\u001b[0mcasted_key\u001b[0m\u001b[1;33m)\u001b[0m\u001b[1;33m\u001b[0m\u001b[1;33m\u001b[0m\u001b[0m\n\u001b[0m\u001b[0;32m   3081\u001b[0m             \u001b[1;32mexcept\u001b[0m \u001b[0mKeyError\u001b[0m \u001b[1;32mas\u001b[0m \u001b[0merr\u001b[0m\u001b[1;33m:\u001b[0m\u001b[1;33m\u001b[0m\u001b[1;33m\u001b[0m\u001b[0m\n",
      "\u001b[1;32mpandas\\_libs\\index.pyx\u001b[0m in \u001b[0;36mpandas._libs.index.IndexEngine.get_loc\u001b[1;34m()\u001b[0m\n",
      "\u001b[1;32mpandas\\_libs\\index.pyx\u001b[0m in \u001b[0;36mpandas._libs.index.IndexEngine.get_loc\u001b[1;34m()\u001b[0m\n",
      "\u001b[1;32mpandas\\_libs\\hashtable_class_helper.pxi\u001b[0m in \u001b[0;36mpandas._libs.hashtable.Int64HashTable.get_item\u001b[1;34m()\u001b[0m\n",
      "\u001b[1;32mpandas\\_libs\\hashtable_class_helper.pxi\u001b[0m in \u001b[0;36mpandas._libs.hashtable.Int64HashTable.get_item\u001b[1;34m()\u001b[0m\n",
      "\u001b[1;31mKeyError\u001b[0m: 0",
      "\nThe above exception was the direct cause of the following exception:\n",
      "\u001b[1;31mKeyError\u001b[0m                                  Traceback (most recent call last)",
      "\u001b[1;32m<ipython-input-91-d1beb18e76b6>\u001b[0m in \u001b[0;36m<module>\u001b[1;34m\u001b[0m\n\u001b[1;32m----> 1\u001b[1;33m \u001b[0mtxt_df\u001b[0m\u001b[1;33m[\u001b[0m\u001b[1;34m'Product Name'\u001b[0m\u001b[1;33m]\u001b[0m\u001b[1;33m[\u001b[0m\u001b[1;36m0\u001b[0m\u001b[1;33m]\u001b[0m\u001b[1;33m\u001b[0m\u001b[1;33m\u001b[0m\u001b[0m\n\u001b[0m",
      "\u001b[1;32m~\\anaconda3\\lib\\site-packages\\pandas\\core\\series.py\u001b[0m in \u001b[0;36m__getitem__\u001b[1;34m(self, key)\u001b[0m\n\u001b[0;32m    851\u001b[0m \u001b[1;33m\u001b[0m\u001b[0m\n\u001b[0;32m    852\u001b[0m         \u001b[1;32melif\u001b[0m \u001b[0mkey_is_scalar\u001b[0m\u001b[1;33m:\u001b[0m\u001b[1;33m\u001b[0m\u001b[1;33m\u001b[0m\u001b[0m\n\u001b[1;32m--> 853\u001b[1;33m             \u001b[1;32mreturn\u001b[0m \u001b[0mself\u001b[0m\u001b[1;33m.\u001b[0m\u001b[0m_get_value\u001b[0m\u001b[1;33m(\u001b[0m\u001b[0mkey\u001b[0m\u001b[1;33m)\u001b[0m\u001b[1;33m\u001b[0m\u001b[1;33m\u001b[0m\u001b[0m\n\u001b[0m\u001b[0;32m    854\u001b[0m \u001b[1;33m\u001b[0m\u001b[0m\n\u001b[0;32m    855\u001b[0m         \u001b[1;32mif\u001b[0m \u001b[0mis_hashable\u001b[0m\u001b[1;33m(\u001b[0m\u001b[0mkey\u001b[0m\u001b[1;33m)\u001b[0m\u001b[1;33m:\u001b[0m\u001b[1;33m\u001b[0m\u001b[1;33m\u001b[0m\u001b[0m\n",
      "\u001b[1;32m~\\anaconda3\\lib\\site-packages\\pandas\\core\\series.py\u001b[0m in \u001b[0;36m_get_value\u001b[1;34m(self, label, takeable)\u001b[0m\n\u001b[0;32m    959\u001b[0m \u001b[1;33m\u001b[0m\u001b[0m\n\u001b[0;32m    960\u001b[0m         \u001b[1;31m# Similar to Index.get_value, but we do not fall back to positional\u001b[0m\u001b[1;33m\u001b[0m\u001b[1;33m\u001b[0m\u001b[1;33m\u001b[0m\u001b[0m\n\u001b[1;32m--> 961\u001b[1;33m         \u001b[0mloc\u001b[0m \u001b[1;33m=\u001b[0m \u001b[0mself\u001b[0m\u001b[1;33m.\u001b[0m\u001b[0mindex\u001b[0m\u001b[1;33m.\u001b[0m\u001b[0mget_loc\u001b[0m\u001b[1;33m(\u001b[0m\u001b[0mlabel\u001b[0m\u001b[1;33m)\u001b[0m\u001b[1;33m\u001b[0m\u001b[1;33m\u001b[0m\u001b[0m\n\u001b[0m\u001b[0;32m    962\u001b[0m         \u001b[1;32mreturn\u001b[0m \u001b[0mself\u001b[0m\u001b[1;33m.\u001b[0m\u001b[0mindex\u001b[0m\u001b[1;33m.\u001b[0m\u001b[0m_get_values_for_loc\u001b[0m\u001b[1;33m(\u001b[0m\u001b[0mself\u001b[0m\u001b[1;33m,\u001b[0m \u001b[0mloc\u001b[0m\u001b[1;33m,\u001b[0m \u001b[0mlabel\u001b[0m\u001b[1;33m)\u001b[0m\u001b[1;33m\u001b[0m\u001b[1;33m\u001b[0m\u001b[0m\n\u001b[0;32m    963\u001b[0m \u001b[1;33m\u001b[0m\u001b[0m\n",
      "\u001b[1;32m~\\anaconda3\\lib\\site-packages\\pandas\\core\\indexes\\base.py\u001b[0m in \u001b[0;36mget_loc\u001b[1;34m(self, key, method, tolerance)\u001b[0m\n\u001b[0;32m   3080\u001b[0m                 \u001b[1;32mreturn\u001b[0m \u001b[0mself\u001b[0m\u001b[1;33m.\u001b[0m\u001b[0m_engine\u001b[0m\u001b[1;33m.\u001b[0m\u001b[0mget_loc\u001b[0m\u001b[1;33m(\u001b[0m\u001b[0mcasted_key\u001b[0m\u001b[1;33m)\u001b[0m\u001b[1;33m\u001b[0m\u001b[1;33m\u001b[0m\u001b[0m\n\u001b[0;32m   3081\u001b[0m             \u001b[1;32mexcept\u001b[0m \u001b[0mKeyError\u001b[0m \u001b[1;32mas\u001b[0m \u001b[0merr\u001b[0m\u001b[1;33m:\u001b[0m\u001b[1;33m\u001b[0m\u001b[1;33m\u001b[0m\u001b[0m\n\u001b[1;32m-> 3082\u001b[1;33m                 \u001b[1;32mraise\u001b[0m \u001b[0mKeyError\u001b[0m\u001b[1;33m(\u001b[0m\u001b[0mkey\u001b[0m\u001b[1;33m)\u001b[0m \u001b[1;32mfrom\u001b[0m \u001b[0merr\u001b[0m\u001b[1;33m\u001b[0m\u001b[1;33m\u001b[0m\u001b[0m\n\u001b[0m\u001b[0;32m   3083\u001b[0m \u001b[1;33m\u001b[0m\u001b[0m\n\u001b[0;32m   3084\u001b[0m         \u001b[1;32mif\u001b[0m \u001b[0mtolerance\u001b[0m \u001b[1;32mis\u001b[0m \u001b[1;32mnot\u001b[0m \u001b[1;32mNone\u001b[0m\u001b[1;33m:\u001b[0m\u001b[1;33m\u001b[0m\u001b[1;33m\u001b[0m\u001b[0m\n",
      "\u001b[1;31mKeyError\u001b[0m: 0"
     ]
    }
   ],
   "metadata": {}
  },
  {
   "cell_type": "code",
   "execution_count": 61,
   "source": [
    "re.search(\"$\", txt_df['Campaign Description'][0])"
   ],
   "outputs": [
    {
     "output_type": "error",
     "ename": "KeyError",
     "evalue": "0",
     "traceback": [
      "\u001b[1;31m---------------------------------------------------------------------------\u001b[0m",
      "\u001b[1;31mKeyError\u001b[0m                                  Traceback (most recent call last)",
      "\u001b[1;32m~\\anaconda3\\lib\\site-packages\\pandas\\core\\indexes\\base.py\u001b[0m in \u001b[0;36mget_loc\u001b[1;34m(self, key, method, tolerance)\u001b[0m\n\u001b[0;32m   3079\u001b[0m             \u001b[1;32mtry\u001b[0m\u001b[1;33m:\u001b[0m\u001b[1;33m\u001b[0m\u001b[1;33m\u001b[0m\u001b[0m\n\u001b[1;32m-> 3080\u001b[1;33m                 \u001b[1;32mreturn\u001b[0m \u001b[0mself\u001b[0m\u001b[1;33m.\u001b[0m\u001b[0m_engine\u001b[0m\u001b[1;33m.\u001b[0m\u001b[0mget_loc\u001b[0m\u001b[1;33m(\u001b[0m\u001b[0mcasted_key\u001b[0m\u001b[1;33m)\u001b[0m\u001b[1;33m\u001b[0m\u001b[1;33m\u001b[0m\u001b[0m\n\u001b[0m\u001b[0;32m   3081\u001b[0m             \u001b[1;32mexcept\u001b[0m \u001b[0mKeyError\u001b[0m \u001b[1;32mas\u001b[0m \u001b[0merr\u001b[0m\u001b[1;33m:\u001b[0m\u001b[1;33m\u001b[0m\u001b[1;33m\u001b[0m\u001b[0m\n",
      "\u001b[1;32mpandas\\_libs\\index.pyx\u001b[0m in \u001b[0;36mpandas._libs.index.IndexEngine.get_loc\u001b[1;34m()\u001b[0m\n",
      "\u001b[1;32mpandas\\_libs\\index.pyx\u001b[0m in \u001b[0;36mpandas._libs.index.IndexEngine.get_loc\u001b[1;34m()\u001b[0m\n",
      "\u001b[1;32mpandas\\_libs\\hashtable_class_helper.pxi\u001b[0m in \u001b[0;36mpandas._libs.hashtable.Int64HashTable.get_item\u001b[1;34m()\u001b[0m\n",
      "\u001b[1;32mpandas\\_libs\\hashtable_class_helper.pxi\u001b[0m in \u001b[0;36mpandas._libs.hashtable.Int64HashTable.get_item\u001b[1;34m()\u001b[0m\n",
      "\u001b[1;31mKeyError\u001b[0m: 0",
      "\nThe above exception was the direct cause of the following exception:\n",
      "\u001b[1;31mKeyError\u001b[0m                                  Traceback (most recent call last)",
      "\u001b[1;32m<ipython-input-61-c9a03a5893d8>\u001b[0m in \u001b[0;36m<module>\u001b[1;34m\u001b[0m\n\u001b[1;32m----> 1\u001b[1;33m \u001b[0mre\u001b[0m\u001b[1;33m.\u001b[0m\u001b[0msearch\u001b[0m\u001b[1;33m(\u001b[0m\u001b[1;34m\"$\"\u001b[0m\u001b[1;33m,\u001b[0m \u001b[0mtxt_df\u001b[0m\u001b[1;33m[\u001b[0m\u001b[1;34m'Campaign Description'\u001b[0m\u001b[1;33m]\u001b[0m\u001b[1;33m[\u001b[0m\u001b[1;36m0\u001b[0m\u001b[1;33m]\u001b[0m\u001b[1;33m)\u001b[0m\u001b[1;33m\u001b[0m\u001b[1;33m\u001b[0m\u001b[0m\n\u001b[0m",
      "\u001b[1;32m~\\anaconda3\\lib\\site-packages\\pandas\\core\\series.py\u001b[0m in \u001b[0;36m__getitem__\u001b[1;34m(self, key)\u001b[0m\n\u001b[0;32m    851\u001b[0m \u001b[1;33m\u001b[0m\u001b[0m\n\u001b[0;32m    852\u001b[0m         \u001b[1;32melif\u001b[0m \u001b[0mkey_is_scalar\u001b[0m\u001b[1;33m:\u001b[0m\u001b[1;33m\u001b[0m\u001b[1;33m\u001b[0m\u001b[0m\n\u001b[1;32m--> 853\u001b[1;33m             \u001b[1;32mreturn\u001b[0m \u001b[0mself\u001b[0m\u001b[1;33m.\u001b[0m\u001b[0m_get_value\u001b[0m\u001b[1;33m(\u001b[0m\u001b[0mkey\u001b[0m\u001b[1;33m)\u001b[0m\u001b[1;33m\u001b[0m\u001b[1;33m\u001b[0m\u001b[0m\n\u001b[0m\u001b[0;32m    854\u001b[0m \u001b[1;33m\u001b[0m\u001b[0m\n\u001b[0;32m    855\u001b[0m         \u001b[1;32mif\u001b[0m \u001b[0mis_hashable\u001b[0m\u001b[1;33m(\u001b[0m\u001b[0mkey\u001b[0m\u001b[1;33m)\u001b[0m\u001b[1;33m:\u001b[0m\u001b[1;33m\u001b[0m\u001b[1;33m\u001b[0m\u001b[0m\n",
      "\u001b[1;32m~\\anaconda3\\lib\\site-packages\\pandas\\core\\series.py\u001b[0m in \u001b[0;36m_get_value\u001b[1;34m(self, label, takeable)\u001b[0m\n\u001b[0;32m    959\u001b[0m \u001b[1;33m\u001b[0m\u001b[0m\n\u001b[0;32m    960\u001b[0m         \u001b[1;31m# Similar to Index.get_value, but we do not fall back to positional\u001b[0m\u001b[1;33m\u001b[0m\u001b[1;33m\u001b[0m\u001b[1;33m\u001b[0m\u001b[0m\n\u001b[1;32m--> 961\u001b[1;33m         \u001b[0mloc\u001b[0m \u001b[1;33m=\u001b[0m \u001b[0mself\u001b[0m\u001b[1;33m.\u001b[0m\u001b[0mindex\u001b[0m\u001b[1;33m.\u001b[0m\u001b[0mget_loc\u001b[0m\u001b[1;33m(\u001b[0m\u001b[0mlabel\u001b[0m\u001b[1;33m)\u001b[0m\u001b[1;33m\u001b[0m\u001b[1;33m\u001b[0m\u001b[0m\n\u001b[0m\u001b[0;32m    962\u001b[0m         \u001b[1;32mreturn\u001b[0m \u001b[0mself\u001b[0m\u001b[1;33m.\u001b[0m\u001b[0mindex\u001b[0m\u001b[1;33m.\u001b[0m\u001b[0m_get_values_for_loc\u001b[0m\u001b[1;33m(\u001b[0m\u001b[0mself\u001b[0m\u001b[1;33m,\u001b[0m \u001b[0mloc\u001b[0m\u001b[1;33m,\u001b[0m \u001b[0mlabel\u001b[0m\u001b[1;33m)\u001b[0m\u001b[1;33m\u001b[0m\u001b[1;33m\u001b[0m\u001b[0m\n\u001b[0;32m    963\u001b[0m \u001b[1;33m\u001b[0m\u001b[0m\n",
      "\u001b[1;32m~\\anaconda3\\lib\\site-packages\\pandas\\core\\indexes\\base.py\u001b[0m in \u001b[0;36mget_loc\u001b[1;34m(self, key, method, tolerance)\u001b[0m\n\u001b[0;32m   3080\u001b[0m                 \u001b[1;32mreturn\u001b[0m \u001b[0mself\u001b[0m\u001b[1;33m.\u001b[0m\u001b[0m_engine\u001b[0m\u001b[1;33m.\u001b[0m\u001b[0mget_loc\u001b[0m\u001b[1;33m(\u001b[0m\u001b[0mcasted_key\u001b[0m\u001b[1;33m)\u001b[0m\u001b[1;33m\u001b[0m\u001b[1;33m\u001b[0m\u001b[0m\n\u001b[0;32m   3081\u001b[0m             \u001b[1;32mexcept\u001b[0m \u001b[0mKeyError\u001b[0m \u001b[1;32mas\u001b[0m \u001b[0merr\u001b[0m\u001b[1;33m:\u001b[0m\u001b[1;33m\u001b[0m\u001b[1;33m\u001b[0m\u001b[0m\n\u001b[1;32m-> 3082\u001b[1;33m                 \u001b[1;32mraise\u001b[0m \u001b[0mKeyError\u001b[0m\u001b[1;33m(\u001b[0m\u001b[0mkey\u001b[0m\u001b[1;33m)\u001b[0m \u001b[1;32mfrom\u001b[0m \u001b[0merr\u001b[0m\u001b[1;33m\u001b[0m\u001b[1;33m\u001b[0m\u001b[0m\n\u001b[0m\u001b[0;32m   3083\u001b[0m \u001b[1;33m\u001b[0m\u001b[0m\n\u001b[0;32m   3084\u001b[0m         \u001b[1;32mif\u001b[0m \u001b[0mtolerance\u001b[0m \u001b[1;32mis\u001b[0m \u001b[1;32mnot\u001b[0m \u001b[1;32mNone\u001b[0m\u001b[1;33m:\u001b[0m\u001b[1;33m\u001b[0m\u001b[1;33m\u001b[0m\u001b[0m\n",
      "\u001b[1;31mKeyError\u001b[0m: 0"
     ]
    }
   ],
   "metadata": {}
  },
  {
   "cell_type": "code",
   "execution_count": null,
   "source": [
    "variable = (txt_df['Campaign Description'][0]).astype(str)  \r\n",
    "\r\n",
    "answer = (re.findall(r'\\w+', variable))\r\n",
    "\r\n",
    "print(answer)"
   ],
   "outputs": [],
   "metadata": {}
  },
  {
   "cell_type": "markdown",
   "source": [
    "- Includes emojis\r\n",
    "- Includes capitalization\r\n",
    "- Character length, of each\r\n",
    "- Character ratio\r\n",
    "- Word quantity, of each\r\n",
    "- Word ratio\r\n",
    "- Includes $\r\n",
    "- Includes #s\r\n",
    "- Includes all caps"
   ],
   "metadata": {}
  }
 ],
 "metadata": {
  "kernelspec": {
   "name": "python3",
   "display_name": "Python 3.8.8 64-bit ('base': conda)"
  },
  "language_info": {
   "codemirror_mode": {
    "name": "ipython",
    "version": 3
   },
   "file_extension": ".py",
   "mimetype": "text/x-python",
   "name": "python",
   "nbconvert_exporter": "python",
   "pygments_lexer": "ipython3",
   "version": "3.8.8"
  },
  "interpreter": {
   "hash": "3f8956436d8ce59f668ff26075b9e4d053dba06b7526eb5909008814682cd7e3"
  }
 },
 "nbformat": 4,
 "nbformat_minor": 5
}