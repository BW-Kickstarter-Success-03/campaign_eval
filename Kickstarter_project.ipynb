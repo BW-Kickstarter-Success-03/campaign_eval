{
 "cells": [
  {
   "cell_type": "markdown",
   "source": [
    "# Data Import"
   ],
   "metadata": {}
  },
  {
   "cell_type": "code",
   "execution_count": 1,
   "source": [
    "import pandas as pd\r\n",
    "import numpy as np\r\n",
    "import datetime as dt\r\n",
    "import matplotlib.pyplot as plt\r\n",
    "import seaborn as sns"
   ],
   "outputs": [
    {
     "output_type": "error",
     "ename": "ModuleNotFoundError",
     "evalue": "No module named 'seaborn'",
     "traceback": [
      "\u001b[1;31m---------------------------------------------------------------------------\u001b[0m",
      "\u001b[1;31mModuleNotFoundError\u001b[0m                       Traceback (most recent call last)",
      "\u001b[1;32m~\\AppData\\Local\\Temp/ipykernel_6256/1614961788.py\u001b[0m in \u001b[0;36m<module>\u001b[1;34m\u001b[0m\n\u001b[0;32m      4\u001b[0m \u001b[1;32mimport\u001b[0m \u001b[0mre\u001b[0m\u001b[1;33m\u001b[0m\u001b[1;33m\u001b[0m\u001b[0m\n\u001b[0;32m      5\u001b[0m \u001b[1;32mimport\u001b[0m \u001b[0mmatplotlib\u001b[0m\u001b[1;33m.\u001b[0m\u001b[0mpyplot\u001b[0m \u001b[1;32mas\u001b[0m \u001b[0mplt\u001b[0m\u001b[1;33m\u001b[0m\u001b[1;33m\u001b[0m\u001b[0m\n\u001b[1;32m----> 6\u001b[1;33m \u001b[1;32mimport\u001b[0m \u001b[0mseaborn\u001b[0m \u001b[1;32mas\u001b[0m \u001b[0msns\u001b[0m\u001b[1;33m\u001b[0m\u001b[1;33m\u001b[0m\u001b[0m\n\u001b[0m",
      "\u001b[1;31mModuleNotFoundError\u001b[0m: No module named 'seaborn'"
     ]
    }
   ],
   "metadata": {}
  },
  {
   "cell_type": "code",
   "execution_count": null,
   "source": [
    "# data_path = (\"C:\\\\Users\\\\EAFle\\\\U3S4_BW\\\\GitHub_Repo\\\\Kickstarter\\\\data-modeling-1\\\\KickstarterCleanedv3.csv\")\r\n",
    "\r\n",
    "# raw_df = pd.read_csv(data_path, index_col='idb"
   ],
   "outputs": [],
   "metadata": {}
  },
  {
   "cell_type": "code",
   "execution_count": 158,
   "source": [
    "raw_df = pd.read_csv('KickstarterData.zip', index_col='id')"
   ],
   "outputs": [],
   "metadata": {}
  },
  {
   "cell_type": "markdown",
   "source": [
    "# Exploratory Data Analysis"
   ],
   "metadata": {}
  },
  {
   "cell_type": "code",
   "execution_count": 137,
   "source": [
    "raw_df.info()"
   ],
   "outputs": [
    {
     "output_type": "stream",
     "name": "stdout",
     "text": [
      "<class 'pandas.core.frame.DataFrame'>\n",
      "Int64Index: 218361 entries, 1629235715 to 807310529\n",
      "Data columns (total 21 columns):\n",
      " #   Column             Non-Null Count   Dtype  \n",
      "---  ------             --------------   -----  \n",
      " 0   Unnamed: 0         218361 non-null  int64  \n",
      " 1   backers_count      218361 non-null  int64  \n",
      " 2   blurb              218353 non-null  object \n",
      " 3   category           218361 non-null  object \n",
      " 4   country            218361 non-null  object \n",
      " 5   created_at         218361 non-null  object \n",
      " 6   deadline           218361 non-null  object \n",
      " 7   goal               218361 non-null  float64\n",
      " 8   launched_at        218361 non-null  object \n",
      " 9   name               218361 non-null  object \n",
      " 10  pledged            218361 non-null  float64\n",
      " 11  spotlight          218361 non-null  int64  \n",
      " 12  staff_pick         218361 non-null  int64  \n",
      " 13  state              218361 non-null  int64  \n",
      " 14  state_changed_at   218361 non-null  object \n",
      " 15  usd_exchange_rate  218361 non-null  float64\n",
      " 16  usd_pledged        218361 non-null  float64\n",
      " 17  blurb_length       218353 non-null  float64\n",
      " 18  goal_in_usd        218361 non-null  float64\n",
      " 19  campaign_duration  218361 non-null  int64  \n",
      " 20  sub_category       210635 non-null  object \n",
      "dtypes: float64(6), int64(6), object(9)\n",
      "memory usage: 36.7+ MB\n"
     ]
    }
   ],
   "metadata": {
    "collapsed": true,
    "jupyter": {
     "outputs_hidden": true
    },
    "tags": []
   }
  },
  {
   "cell_type": "code",
   "execution_count": 4,
   "source": [
    "from pandas_profiling import ProfileReport"
   ],
   "outputs": [
    {
     "output_type": "stream",
     "name": "stderr",
     "text": [
      "In /home/prockwood/anaconda3/lib/python3.8/site-packages/matplotlib/mpl-data/stylelib/_classic_test.mplstyle: \n",
      "The text.latex.preview rcparam was deprecated in Matplotlib 3.3 and will be removed two minor releases later.\n",
      "In /home/prockwood/anaconda3/lib/python3.8/site-packages/matplotlib/mpl-data/stylelib/_classic_test.mplstyle: \n",
      "The mathtext.fallback_to_cm rcparam was deprecated in Matplotlib 3.3 and will be removed two minor releases later.\n",
      "In /home/prockwood/anaconda3/lib/python3.8/site-packages/matplotlib/mpl-data/stylelib/_classic_test.mplstyle: Support for setting the 'mathtext.fallback_to_cm' rcParam is deprecated since 3.3 and will be removed two minor releases later; use 'mathtext.fallback : 'cm' instead.\n",
      "In /home/prockwood/anaconda3/lib/python3.8/site-packages/matplotlib/mpl-data/stylelib/_classic_test.mplstyle: \n",
      "The validate_bool_maybe_none function was deprecated in Matplotlib 3.3 and will be removed two minor releases later.\n",
      "In /home/prockwood/anaconda3/lib/python3.8/site-packages/matplotlib/mpl-data/stylelib/_classic_test.mplstyle: \n",
      "The savefig.jpeg_quality rcparam was deprecated in Matplotlib 3.3 and will be removed two minor releases later.\n",
      "In /home/prockwood/anaconda3/lib/python3.8/site-packages/matplotlib/mpl-data/stylelib/_classic_test.mplstyle: \n",
      "The keymap.all_axes rcparam was deprecated in Matplotlib 3.3 and will be removed two minor releases later.\n",
      "In /home/prockwood/anaconda3/lib/python3.8/site-packages/matplotlib/mpl-data/stylelib/_classic_test.mplstyle: \n",
      "The animation.avconv_path rcparam was deprecated in Matplotlib 3.3 and will be removed two minor releases later.\n",
      "In /home/prockwood/anaconda3/lib/python3.8/site-packages/matplotlib/mpl-data/stylelib/_classic_test.mplstyle: \n",
      "The animation.avconv_args rcparam was deprecated in Matplotlib 3.3 and will be removed two minor releases later.\n"
     ]
    }
   ],
   "metadata": {
    "collapsed": true,
    "jupyter": {
     "outputs_hidden": true
    },
    "tags": []
   }
  },
  {
   "cell_type": "code",
   "execution_count": 6,
   "source": [
    "profile = ProfileReport(raw_df, minimal=True)\n",
    "profile.to_file(output_file=\"profile.html\")"
   ],
   "outputs": [
    {
     "output_type": "display_data",
     "data": {
      "text/plain": [
       "Summarize dataset:   0%|          | 0/30 [00:00<?, ?it/s]"
      ],
      "application/vnd.jupyter.widget-view+json": {
       "model_id": "943607b442f84b648420c4c887d1ee59",
       "version_major": 2,
       "version_minor": 0
      }
     },
     "metadata": {}
    },
    {
     "output_type": "display_data",
     "data": {
      "text/plain": [
       "Generate report structure:   0%|          | 0/1 [00:00<?, ?it/s]"
      ],
      "application/vnd.jupyter.widget-view+json": {
       "model_id": "266c15f4e2864dc2a83dd5535916b95d",
       "version_major": 2,
       "version_minor": 0
      }
     },
     "metadata": {}
    },
    {
     "output_type": "display_data",
     "data": {
      "text/plain": [
       "Render HTML:   0%|          | 0/1 [00:00<?, ?it/s]"
      ],
      "application/vnd.jupyter.widget-view+json": {
       "model_id": "66fadc22fd2f4dfe944ccb45201cf1fc",
       "version_major": 2,
       "version_minor": 0
      }
     },
     "metadata": {}
    },
    {
     "output_type": "display_data",
     "data": {
      "text/plain": [
       "Export report to file:   0%|          | 0/1 [00:00<?, ?it/s]"
      ],
      "application/vnd.jupyter.widget-view+json": {
       "model_id": "10af176345a249a582af45320d5e0c47",
       "version_major": 2,
       "version_minor": 0
      }
     },
     "metadata": {}
    }
   ],
   "metadata": {
    "scrolled": true
   }
  },
  {
   "cell_type": "markdown",
   "source": [
    "# Dataframe Cleaning"
   ],
   "metadata": {}
  },
  {
   "cell_type": "code",
   "execution_count": 159,
   "source": [
    "# Applying the necessary data cleaning and featuring engineering\n",
    "# in one wrangle function.\n",
    "\n",
    "def wrangle(df):\n",
    "\n",
    "    # Defining new reader friendly column names\n",
    "    column_names = ['Kickstarter_id', 'Backers Count', 'Campaign Description', 'Primary Category', \\\n",
    "        'Country', 'Campaign Created', 'Deadline', 'Campaign Goal', 'Campaign Start', \\\n",
    "        'Product Name', 'Amount Pledged', 'Product Spotlight', 'Staff Pick', 'Status', \\\n",
    "        'Goal Reached Date', 'USD Exchange Rate', 'USD Pledged', 'Description Length', 'Goal in USD', \\\n",
    "        'Campaign Length', 'Subcategory']\n",
    "    df.columns = column_names\n",
    "\n",
    "\n",
    "    # Capitalizing the category and subcategory data points for an easier read\n",
    "    df['Primary Category'] = df['Primary Category'].str.title()\n",
    "    df['Subcategory'] = df['Subcategory'].str.title()\n",
    "\n",
    "\n",
    "    # Converting date columns to datetime dtype\n",
    "    date_columns = ['Campaign Created', 'Deadline', 'Campaign Start', 'Goal Reached Date']\n",
    "    df[date_columns] = df[date_columns].apply(pd.to_datetime)\n",
    "\n",
    "\n",
    "    # Dropping columns and rows not applicable to an American audience\n",
    "    non_essential_columns = ['Kickstarter_id', 'USD Exchange Rate', 'USD Pledged', 'Goal in USD', 'Product Spotlight']\n",
    "    df.drop(columns=non_essential_columns, axis=1, inplace=True)\n",
    "    df.drop(df.loc[df['Country']!='US'].index, inplace=True)\n",
    "\n",
    "\n",
    "    # Correcting country name with ISO country code name\n",
    "    df['Country'] = df['Country'].replace('US', 'USA')\n",
    "    df.drop(columns='Country', inplace=True)\n",
    "    \n",
    "    # Remove weird dict strings in Primary Category\n",
    "    df['Primary Category'] = df['Primary Category'].apply(lambda x: re.findall(r\"[a-zA-z]+\", x)[0])\n",
    "\n",
    "    # Filling absent subcategory values with primary category values\n",
    "    # We don't want to discredit a product because it cannot qualify\n",
    "    # For a granular subcategory\n",
    "    df[['Primary Category', 'Subcategory']] = df[['Primary Category', 'Subcategory']].astype(str)\n",
    "    df['Subcategory'].fillna(df['Primary Category'], inplace=True)\n",
    "\n",
    "\n",
    "    # Dropping rows with no campaign description\n",
    "    # As they may not be serious campaigns\n",
    "    # This data may also provide future data leakage indicating campaign failure.\n",
    "    df.dropna(axis=0, inplace=True)\n",
    "\n",
    "\n",
    "    # Creating features to indicate goal and pledge amounts per day and per backer\n",
    "    # These features can assist campaign success measurements\n",
    "    df['Goal Amount Per Backer'] = round(df['Campaign Goal']/df['Backers Count'])\n",
    "    df['Pledge Amount Per Backer'] = round(df['Amount Pledged']/df['Backers Count'])\n",
    "    df['Goal Amount Per Day'] = round(df['Campaign Goal']/df['Campaign Length'])\n",
    "    df['Pledge Amount Per Day'] = round(df['Amount Pledged']/df['Campaign Length'])\n",
    "\n",
    "\n",
    "    # Creating data to quantify the time from campagin creation to start\n",
    "    df['Campaign Launch Length'] = df['Campaign Start'].sub(df['Campaign Created'], axis=0)\n",
    "    \n",
    "    # Remove duplicate 'Product Name' rows\n",
    "    df.drop_duplicates(subset=['Product Name'], keep='first', inplace=True)\n",
    "    df.drop_duplicates(subset=['Campaign Description'], keep='first', inplace=True)\n",
    "\n",
    "    return df"
   ],
   "outputs": [],
   "metadata": {}
  },
  {
   "cell_type": "code",
   "execution_count": 160,
   "source": [
    "df = wrangle(raw_df)\n",
    "\n",
    "df.head()"
   ],
   "outputs": [
    {
     "output_type": "execute_result",
     "data": {
      "text/plain": [
       "            Backers Count                               Campaign Description  \\\n",
       "id                                                                             \n",
       "1629235715             63                       A Steve Lafler graphic novel   \n",
       "1593905291            132  What happens when two drug-fueled lowlifes fin...   \n",
       "1341470613              6                            A pillow meant for two.   \n",
       "510157690              16  Professional conservation of the 1880's mural ...   \n",
       "147824964              44  We are trying to raise $2,500 for an art proje...   \n",
       "\n",
       "           Primary Category Campaign Created   Deadline  Campaign Goal  \\\n",
       "id                                                                       \n",
       "1629235715           Comics       2020-08-27 2020-09-24          599.0   \n",
       "1593905291           Comics       2017-01-16 2017-03-16         2000.0   \n",
       "1341470613           Crafts       2015-02-01 2015-03-05          500.0   \n",
       "510157690               Art       2018-10-24 2019-04-24        17000.0   \n",
       "147824964               Art       2012-06-28 2013-04-05         2500.0   \n",
       "\n",
       "           Campaign Start                                Product Name  \\\n",
       "id                                                                      \n",
       "1629235715     2020-09-01    1956 Book One: Sweet Sweet Little Ramona   \n",
       "1593905291     2017-02-14                              Modern Animals   \n",
       "1341470613     2015-02-03                        Couples Couch Pillow   \n",
       "510157690      2019-03-10  Downtown Mural Restoration (Ann Arbor, MI)   \n",
       "147824964      2013-02-04                 The Trade Parade of Ecuador   \n",
       "\n",
       "            Amount Pledged  Staff Pick  Status Goal Reached Date  \\\n",
       "id                                                                 \n",
       "1629235715          1942.0           0       1        2020-09-24   \n",
       "1593905291          3097.0           0       1        2017-03-16   \n",
       "1341470613           211.0           0       0        2015-03-05   \n",
       "510157690           1368.0           0       0        2019-04-24   \n",
       "147824964           2506.0           0       1        2013-04-05   \n",
       "\n",
       "            Description Length  Campaign Length      Subcategory  \\\n",
       "id                                                                 \n",
       "1629235715                 5.0               23   Graphic Novels   \n",
       "1593905291                20.0               30   Graphic Novels   \n",
       "1341470613                 5.0               30              Diy   \n",
       "510157690                 18.0               45         Painting   \n",
       "147824964                 14.0               60  Performance Art   \n",
       "\n",
       "            Goal Amount Per Backer  Pledge Amount Per Backer  \\\n",
       "id                                                             \n",
       "1629235715                    10.0                      31.0   \n",
       "1593905291                    15.0                      23.0   \n",
       "1341470613                    83.0                      35.0   \n",
       "510157690                   1062.0                      86.0   \n",
       "147824964                     57.0                      57.0   \n",
       "\n",
       "            Goal Amount Per Day  Pledge Amount Per Day Campaign Launch Length  \n",
       "id                                                                             \n",
       "1629235715                 26.0                   84.0                 5 days  \n",
       "1593905291                 67.0                  103.0                29 days  \n",
       "1341470613                 17.0                    7.0                 2 days  \n",
       "510157690                 378.0                   30.0               137 days  \n",
       "147824964                  42.0                   42.0               221 days  "
      ],
      "text/html": [
       "<div>\n",
       "<style scoped>\n",
       "    .dataframe tbody tr th:only-of-type {\n",
       "        vertical-align: middle;\n",
       "    }\n",
       "\n",
       "    .dataframe tbody tr th {\n",
       "        vertical-align: top;\n",
       "    }\n",
       "\n",
       "    .dataframe thead th {\n",
       "        text-align: right;\n",
       "    }\n",
       "</style>\n",
       "<table border=\"1\" class=\"dataframe\">\n",
       "  <thead>\n",
       "    <tr style=\"text-align: right;\">\n",
       "      <th></th>\n",
       "      <th>Backers Count</th>\n",
       "      <th>Campaign Description</th>\n",
       "      <th>Primary Category</th>\n",
       "      <th>Campaign Created</th>\n",
       "      <th>Deadline</th>\n",
       "      <th>Campaign Goal</th>\n",
       "      <th>Campaign Start</th>\n",
       "      <th>Product Name</th>\n",
       "      <th>Amount Pledged</th>\n",
       "      <th>Staff Pick</th>\n",
       "      <th>Status</th>\n",
       "      <th>Goal Reached Date</th>\n",
       "      <th>Description Length</th>\n",
       "      <th>Campaign Length</th>\n",
       "      <th>Subcategory</th>\n",
       "      <th>Goal Amount Per Backer</th>\n",
       "      <th>Pledge Amount Per Backer</th>\n",
       "      <th>Goal Amount Per Day</th>\n",
       "      <th>Pledge Amount Per Day</th>\n",
       "      <th>Campaign Launch Length</th>\n",
       "    </tr>\n",
       "    <tr>\n",
       "      <th>id</th>\n",
       "      <th></th>\n",
       "      <th></th>\n",
       "      <th></th>\n",
       "      <th></th>\n",
       "      <th></th>\n",
       "      <th></th>\n",
       "      <th></th>\n",
       "      <th></th>\n",
       "      <th></th>\n",
       "      <th></th>\n",
       "      <th></th>\n",
       "      <th></th>\n",
       "      <th></th>\n",
       "      <th></th>\n",
       "      <th></th>\n",
       "      <th></th>\n",
       "      <th></th>\n",
       "      <th></th>\n",
       "      <th></th>\n",
       "      <th></th>\n",
       "    </tr>\n",
       "  </thead>\n",
       "  <tbody>\n",
       "    <tr>\n",
       "      <th>1629235715</th>\n",
       "      <td>63</td>\n",
       "      <td>A Steve Lafler graphic novel</td>\n",
       "      <td>Comics</td>\n",
       "      <td>2020-08-27</td>\n",
       "      <td>2020-09-24</td>\n",
       "      <td>599.0</td>\n",
       "      <td>2020-09-01</td>\n",
       "      <td>1956 Book One: Sweet Sweet Little Ramona</td>\n",
       "      <td>1942.0</td>\n",
       "      <td>0</td>\n",
       "      <td>1</td>\n",
       "      <td>2020-09-24</td>\n",
       "      <td>5.0</td>\n",
       "      <td>23</td>\n",
       "      <td>Graphic Novels</td>\n",
       "      <td>10.0</td>\n",
       "      <td>31.0</td>\n",
       "      <td>26.0</td>\n",
       "      <td>84.0</td>\n",
       "      <td>5 days</td>\n",
       "    </tr>\n",
       "    <tr>\n",
       "      <th>1593905291</th>\n",
       "      <td>132</td>\n",
       "      <td>What happens when two drug-fueled lowlifes fin...</td>\n",
       "      <td>Comics</td>\n",
       "      <td>2017-01-16</td>\n",
       "      <td>2017-03-16</td>\n",
       "      <td>2000.0</td>\n",
       "      <td>2017-02-14</td>\n",
       "      <td>Modern Animals</td>\n",
       "      <td>3097.0</td>\n",
       "      <td>0</td>\n",
       "      <td>1</td>\n",
       "      <td>2017-03-16</td>\n",
       "      <td>20.0</td>\n",
       "      <td>30</td>\n",
       "      <td>Graphic Novels</td>\n",
       "      <td>15.0</td>\n",
       "      <td>23.0</td>\n",
       "      <td>67.0</td>\n",
       "      <td>103.0</td>\n",
       "      <td>29 days</td>\n",
       "    </tr>\n",
       "    <tr>\n",
       "      <th>1341470613</th>\n",
       "      <td>6</td>\n",
       "      <td>A pillow meant for two.</td>\n",
       "      <td>Crafts</td>\n",
       "      <td>2015-02-01</td>\n",
       "      <td>2015-03-05</td>\n",
       "      <td>500.0</td>\n",
       "      <td>2015-02-03</td>\n",
       "      <td>Couples Couch Pillow</td>\n",
       "      <td>211.0</td>\n",
       "      <td>0</td>\n",
       "      <td>0</td>\n",
       "      <td>2015-03-05</td>\n",
       "      <td>5.0</td>\n",
       "      <td>30</td>\n",
       "      <td>Diy</td>\n",
       "      <td>83.0</td>\n",
       "      <td>35.0</td>\n",
       "      <td>17.0</td>\n",
       "      <td>7.0</td>\n",
       "      <td>2 days</td>\n",
       "    </tr>\n",
       "    <tr>\n",
       "      <th>510157690</th>\n",
       "      <td>16</td>\n",
       "      <td>Professional conservation of the 1880's mural ...</td>\n",
       "      <td>Art</td>\n",
       "      <td>2018-10-24</td>\n",
       "      <td>2019-04-24</td>\n",
       "      <td>17000.0</td>\n",
       "      <td>2019-03-10</td>\n",
       "      <td>Downtown Mural Restoration (Ann Arbor, MI)</td>\n",
       "      <td>1368.0</td>\n",
       "      <td>0</td>\n",
       "      <td>0</td>\n",
       "      <td>2019-04-24</td>\n",
       "      <td>18.0</td>\n",
       "      <td>45</td>\n",
       "      <td>Painting</td>\n",
       "      <td>1062.0</td>\n",
       "      <td>86.0</td>\n",
       "      <td>378.0</td>\n",
       "      <td>30.0</td>\n",
       "      <td>137 days</td>\n",
       "    </tr>\n",
       "    <tr>\n",
       "      <th>147824964</th>\n",
       "      <td>44</td>\n",
       "      <td>We are trying to raise $2,500 for an art proje...</td>\n",
       "      <td>Art</td>\n",
       "      <td>2012-06-28</td>\n",
       "      <td>2013-04-05</td>\n",
       "      <td>2500.0</td>\n",
       "      <td>2013-02-04</td>\n",
       "      <td>The Trade Parade of Ecuador</td>\n",
       "      <td>2506.0</td>\n",
       "      <td>0</td>\n",
       "      <td>1</td>\n",
       "      <td>2013-04-05</td>\n",
       "      <td>14.0</td>\n",
       "      <td>60</td>\n",
       "      <td>Performance Art</td>\n",
       "      <td>57.0</td>\n",
       "      <td>57.0</td>\n",
       "      <td>42.0</td>\n",
       "      <td>42.0</td>\n",
       "      <td>221 days</td>\n",
       "    </tr>\n",
       "  </tbody>\n",
       "</table>\n",
       "</div>"
      ]
     },
     "metadata": {},
     "execution_count": 160
    }
   ],
   "metadata": {}
  },
  {
   "cell_type": "code",
   "execution_count": 151,
   "source": [
    "df.info()"
   ],
   "outputs": [
    {
     "output_type": "stream",
     "name": "stdout",
     "text": [
      "<class 'pandas.core.frame.DataFrame'>\n",
      "Int64Index: 131714 entries, 1629235715 to 2093445204\n",
      "Data columns (total 21 columns):\n",
      " #   Column                    Non-Null Count   Dtype          \n",
      "---  ------                    --------------   -----          \n",
      " 0   Backers Count             131714 non-null  int64          \n",
      " 1   Campaign Description      131714 non-null  object         \n",
      " 2   Primary Category          131714 non-null  object         \n",
      " 3   Campaign Created          131714 non-null  datetime64[ns] \n",
      " 4   Deadline                  131714 non-null  datetime64[ns] \n",
      " 5   Campaign Goal             131714 non-null  float64        \n",
      " 6   Campaign Start            131714 non-null  datetime64[ns] \n",
      " 7   Product Name              131714 non-null  object         \n",
      " 8   Amount Pledged            131714 non-null  float64        \n",
      " 9   Product Spotlight         131714 non-null  int64          \n",
      " 10  Staff Pick                131714 non-null  int64          \n",
      " 11  Status                    131714 non-null  int64          \n",
      " 12  Goal Reached Date         131714 non-null  datetime64[ns] \n",
      " 13  Description Length        131714 non-null  float64        \n",
      " 14  Campaign Length           131714 non-null  int64          \n",
      " 15  Subcategory               131714 non-null  object         \n",
      " 16  Goal Amount Per Backer    131714 non-null  float64        \n",
      " 17  Pledge Amount Per Backer  121160 non-null  float64        \n",
      " 18  Goal Amount Per Day       131714 non-null  float64        \n",
      " 19  Pledge Amount Per Day     131714 non-null  float64        \n",
      " 20  Campaign Launch Length    131714 non-null  timedelta64[ns]\n",
      "dtypes: datetime64[ns](4), float64(7), int64(5), object(4), timedelta64[ns](1)\n",
      "memory usage: 22.1+ MB\n"
     ]
    }
   ],
   "metadata": {}
  },
  {
   "cell_type": "code",
   "execution_count": 127,
   "source": [
    "df_sml = df[['Backers Count', 'Primary Category', \n",
    "            'Campaign Created', \n",
    "            'Staff Pick', 'Status', 'Description Length', \n",
    "            'Campaign Length', 'Subcategory']]"
   ],
   "outputs": [],
   "metadata": {}
  },
  {
   "cell_type": "code",
   "execution_count": 91,
   "source": [
    "df_sml.head()"
   ],
   "outputs": [
    {
     "output_type": "execute_result",
     "data": {
      "text/plain": [
       "            Backers Count Primary Category Campaign Created  \\\n",
       "id                                                            \n",
       "1629235715             63           Comics       2020-08-27   \n",
       "1593905291            132           Comics       2017-01-16   \n",
       "1341470613              6           Crafts       2015-02-01   \n",
       "510157690              16              Art       2018-10-24   \n",
       "147824964              44              Art       2012-06-28   \n",
       "\n",
       "            Product Spotlight  Staff Pick  Status  Description Length  \\\n",
       "id                                                                      \n",
       "1629235715                  1           0       1                 5.0   \n",
       "1593905291                  1           0       1                20.0   \n",
       "1341470613                  0           0       0                 5.0   \n",
       "510157690                   0           0       0                18.0   \n",
       "147824964                   1           0       1                14.0   \n",
       "\n",
       "            Campaign Length      Subcategory  \n",
       "id                                            \n",
       "1629235715               23   Graphic Novels  \n",
       "1593905291               30   Graphic Novels  \n",
       "1341470613               30              Diy  \n",
       "510157690                45         Painting  \n",
       "147824964                60  Performance Art  "
      ],
      "text/html": [
       "<div>\n",
       "<style scoped>\n",
       "    .dataframe tbody tr th:only-of-type {\n",
       "        vertical-align: middle;\n",
       "    }\n",
       "\n",
       "    .dataframe tbody tr th {\n",
       "        vertical-align: top;\n",
       "    }\n",
       "\n",
       "    .dataframe thead th {\n",
       "        text-align: right;\n",
       "    }\n",
       "</style>\n",
       "<table border=\"1\" class=\"dataframe\">\n",
       "  <thead>\n",
       "    <tr style=\"text-align: right;\">\n",
       "      <th></th>\n",
       "      <th>Backers Count</th>\n",
       "      <th>Primary Category</th>\n",
       "      <th>Campaign Created</th>\n",
       "      <th>Product Spotlight</th>\n",
       "      <th>Staff Pick</th>\n",
       "      <th>Status</th>\n",
       "      <th>Description Length</th>\n",
       "      <th>Campaign Length</th>\n",
       "      <th>Subcategory</th>\n",
       "    </tr>\n",
       "    <tr>\n",
       "      <th>id</th>\n",
       "      <th></th>\n",
       "      <th></th>\n",
       "      <th></th>\n",
       "      <th></th>\n",
       "      <th></th>\n",
       "      <th></th>\n",
       "      <th></th>\n",
       "      <th></th>\n",
       "      <th></th>\n",
       "    </tr>\n",
       "  </thead>\n",
       "  <tbody>\n",
       "    <tr>\n",
       "      <th>1629235715</th>\n",
       "      <td>63</td>\n",
       "      <td>Comics</td>\n",
       "      <td>2020-08-27</td>\n",
       "      <td>1</td>\n",
       "      <td>0</td>\n",
       "      <td>1</td>\n",
       "      <td>5.0</td>\n",
       "      <td>23</td>\n",
       "      <td>Graphic Novels</td>\n",
       "    </tr>\n",
       "    <tr>\n",
       "      <th>1593905291</th>\n",
       "      <td>132</td>\n",
       "      <td>Comics</td>\n",
       "      <td>2017-01-16</td>\n",
       "      <td>1</td>\n",
       "      <td>0</td>\n",
       "      <td>1</td>\n",
       "      <td>20.0</td>\n",
       "      <td>30</td>\n",
       "      <td>Graphic Novels</td>\n",
       "    </tr>\n",
       "    <tr>\n",
       "      <th>1341470613</th>\n",
       "      <td>6</td>\n",
       "      <td>Crafts</td>\n",
       "      <td>2015-02-01</td>\n",
       "      <td>0</td>\n",
       "      <td>0</td>\n",
       "      <td>0</td>\n",
       "      <td>5.0</td>\n",
       "      <td>30</td>\n",
       "      <td>Diy</td>\n",
       "    </tr>\n",
       "    <tr>\n",
       "      <th>510157690</th>\n",
       "      <td>16</td>\n",
       "      <td>Art</td>\n",
       "      <td>2018-10-24</td>\n",
       "      <td>0</td>\n",
       "      <td>0</td>\n",
       "      <td>0</td>\n",
       "      <td>18.0</td>\n",
       "      <td>45</td>\n",
       "      <td>Painting</td>\n",
       "    </tr>\n",
       "    <tr>\n",
       "      <th>147824964</th>\n",
       "      <td>44</td>\n",
       "      <td>Art</td>\n",
       "      <td>2012-06-28</td>\n",
       "      <td>1</td>\n",
       "      <td>0</td>\n",
       "      <td>1</td>\n",
       "      <td>14.0</td>\n",
       "      <td>60</td>\n",
       "      <td>Performance Art</td>\n",
       "    </tr>\n",
       "  </tbody>\n",
       "</table>\n",
       "</div>"
      ]
     },
     "metadata": {},
     "execution_count": 91
    }
   ],
   "metadata": {}
  },
  {
   "cell_type": "code",
   "execution_count": 92,
   "source": [
    "for col in df_sml.columns:\n",
    "    print(df_sml[col].describe())\n",
    "    print('\\n', '--------------------------------------', '\\n')"
   ],
   "outputs": [
    {
     "output_type": "stream",
     "name": "stdout",
     "text": [
      "count    148206.000000\n",
      "mean        167.920988\n",
      "std        1049.392306\n",
      "min           0.000000\n",
      "25%           5.000000\n",
      "50%          33.000000\n",
      "75%         103.000000\n",
      "max      105857.000000\n",
      "Name: Backers Count, dtype: float64\n",
      "\n",
      " -------------------------------------- \n",
      "\n",
      "count     148206\n",
      "unique        30\n",
      "top        Music\n",
      "freq       21576\n",
      "Name: Primary Category, dtype: object\n",
      "\n",
      " -------------------------------------- \n",
      "\n",
      "count                  148206\n",
      "unique                   4250\n",
      "top       2014-07-08 00:00:00\n",
      "freq                      476\n",
      "first     2009-04-22 00:00:00\n",
      "last      2021-05-10 00:00:00\n",
      "Name: Campaign Created, dtype: object\n",
      "\n",
      " -------------------------------------- \n",
      "\n",
      "count    148206.000000\n",
      "mean          0.612809\n",
      "std           0.487110\n",
      "min           0.000000\n",
      "25%           0.000000\n",
      "50%           1.000000\n",
      "75%           1.000000\n",
      "max           1.000000\n",
      "Name: Product Spotlight, dtype: float64\n",
      "\n",
      " -------------------------------------- \n",
      "\n",
      "count    148206.000000\n",
      "mean          0.144259\n",
      "std           0.351353\n",
      "min           0.000000\n",
      "25%           0.000000\n",
      "50%           0.000000\n",
      "75%           0.000000\n",
      "max           1.000000\n",
      "Name: Staff Pick, dtype: float64\n",
      "\n",
      " -------------------------------------- \n",
      "\n",
      "count    148206.000000\n",
      "mean          0.612809\n",
      "std           0.487110\n",
      "min           0.000000\n",
      "25%           0.000000\n",
      "50%           1.000000\n",
      "75%           1.000000\n",
      "max           1.000000\n",
      "Name: Status, dtype: float64\n",
      "\n",
      " -------------------------------------- \n",
      "\n",
      "count    148206.000000\n",
      "mean         18.090961\n",
      "std           5.551009\n",
      "min           1.000000\n",
      "25%          15.000000\n",
      "50%          19.000000\n",
      "75%          22.000000\n",
      "max          43.000000\n",
      "Name: Description Length, dtype: float64\n",
      "\n",
      " -------------------------------------- \n",
      "\n",
      "count    148206.000000\n",
      "mean         32.807990\n",
      "std          12.149422\n",
      "min           1.000000\n",
      "25%          30.000000\n",
      "50%          30.000000\n",
      "75%          35.000000\n",
      "max         120.000000\n",
      "Name: Campaign Length, dtype: float64\n",
      "\n",
      " -------------------------------------- \n",
      "\n",
      "count     148206\n",
      "unique       161\n",
      "top          Web\n",
      "freq        2684\n",
      "Name: Subcategory, dtype: object\n",
      "\n",
      " -------------------------------------- \n",
      "\n"
     ]
    },
    {
     "output_type": "stream",
     "name": "stderr",
     "text": [
      "<ipython-input-92-5b73d4a3170e>:2: FutureWarning: Treating datetime data as categorical rather than numeric in `.describe` is deprecated and will be removed in a future version of pandas. Specify `datetime_is_numeric=True` to silence this warning and adopt the future behavior now.\n",
      "  print(df_sml[col].describe())\n"
     ]
    }
   ],
   "metadata": {
    "tags": []
   }
  },
  {
   "cell_type": "markdown",
   "source": [
    "## Feature Engineering\r\n"
   ],
   "metadata": {}
  },
  {
   "cell_type": "markdown",
   "source": [
    "# Data Visualization\r\n"
   ],
   "metadata": {}
  },
  {
   "cell_type": "code",
   "execution_count": 87,
   "source": [
    "# Bar chart of primary category, subcategories, campaign length https://matplotlib.org/stable/api/_as_gen/matplotlib.pyplot.bar.html\r\n",
    "\r\n",
    "# Whisker plot of campaign goal, amount pledged, backers count https://matplotlib.org/3.1.1/api/_as_gen/matplotlib.pyplot.boxplot.html"
   ],
   "outputs": [],
   "metadata": {}
  },
  {
   "cell_type": "code",
   "execution_count": 134,
   "source": [
    "Var_Corr = df_sml.corr()\n",
    "# plot the heatmap and annotation on it\n",
    "sns.heatmap(Var_Corr, xticklabels=Var_Corr.columns, yticklabels=Var_Corr.columns, annot=True)\n",
    "plt.show()"
   ],
   "outputs": [
    {
     "output_type": "display_data",
     "data": {
      "text/plain": [
       "<Figure size 640x480 with 3 Axes>"
      ],
      "image/png": "[encoded data removed]"
     },
     "metadata": {}
    }
   ],
   "metadata": {}
  },
  {
   "cell_type": "markdown",
   "source": [
    "# Modeling\r\n"
   ],
   "metadata": {}
  },
  {
   "cell_type": "code",
   "execution_count": 88,
   "source": [
    "from sklearn.linear_model import LogisticRegression\r\n",
    "from sklearn.pipeline import make_pipeline\r\n",
    "from category_encoders import OneHotEncoder, OrdinalEncoder\r\n",
    "from sklearn.impute import SimpleImputer\r\n",
    "from sklearn.preprocessing import StandardScaler\r\n",
    "from sklearn.ensemble import GradientBoostingClassifier\r\n",
    "from sklearn.model_selection import train_test_split, cross_val_score, validation_curve, RandomizedSearchCV\r\n"
   ],
   "outputs": [],
   "metadata": {}
  },
  {
   "cell_type": "code",
   "execution_count": 89,
   "source": [
    "# Establishing feature matrix and y vector.\r\n",
    "\r\n",
    "target = 'Status'\r\n",
    "\r\n",
    "X = df.drop(columns=target)\r\n",
    "y = df[target]\r\n",
    "\r\n",
    "print(X.shape)\r\n",
    "print(y.shape)\r\n",
    "print(\"The matrix and vector are the same length:\", (len(y) == len(X)))"
   ],
   "outputs": [
    {
     "output_type": "stream",
     "name": "stdout",
     "text": [
      "(148206, 21)\n",
      "(148206,)\n",
      "The matrix and vector are the same length: True\n"
     ]
    }
   ],
   "metadata": {}
  },
  {
   "cell_type": "code",
   "execution_count": 22,
   "source": [
    "df.columns"
   ],
   "outputs": [
    {
     "output_type": "error",
     "ename": "NameError",
     "evalue": "name 'df' is not defined",
     "traceback": [
      "\u001b[0;31m---------------------------------------------------------------------------\u001b[0m",
      "\u001b[0;31mNameError\u001b[0m                                 Traceback (most recent call last)",
      "\u001b[0;32m<ipython-input-22-b666bf274d0a>\u001b[0m in \u001b[0;36m<module>\u001b[0;34m\u001b[0m\n\u001b[0;32m----> 1\u001b[0;31m \u001b[0mdf\u001b[0m\u001b[0;34m.\u001b[0m\u001b[0mcolumns\u001b[0m\u001b[0;34m\u001b[0m\u001b[0;34m\u001b[0m\u001b[0m\n\u001b[0m",
      "\u001b[0;31mNameError\u001b[0m: name 'df' is not defined"
     ]
    }
   ],
   "metadata": {}
  },
  {
   "cell_type": "code",
   "execution_count": 7,
   "source": [
    "dirty_df = raw_df[['category', 'created_at', \n",
    "                   'deadline', 'goal', 'launched_at', \n",
    "                   'state', 'staff_pick', 'spotlight', \n",
    "                   'country', 'blurb_length', \n",
    "                   'campaign_duration', 'sub_category']]"
   ],
   "outputs": [],
   "metadata": {}
  },
  {
   "cell_type": "code",
   "execution_count": 19,
   "source": [
    "first = dirty_df['deadline'].max()\n",
    "last = dirty_df['deadline'].min()\n",
    "last - first"
   ],
   "outputs": [
    {
     "output_type": "error",
     "ename": "TypeError",
     "evalue": "unsupported operand type(s) for -: 'str' and 'str'",
     "traceback": [
      "\u001b[0;31m---------------------------------------------------------------------------\u001b[0m",
      "\u001b[0;31mTypeError\u001b[0m                                 Traceback (most recent call last)",
      "\u001b[0;32m<ipython-input-19-31cd8a9620d5>\u001b[0m in \u001b[0;36m<module>\u001b[0;34m\u001b[0m\n\u001b[1;32m      1\u001b[0m \u001b[0mfirst\u001b[0m \u001b[0;34m=\u001b[0m \u001b[0mdirty_df\u001b[0m\u001b[0;34m[\u001b[0m\u001b[0;34m'deadline'\u001b[0m\u001b[0;34m]\u001b[0m\u001b[0;34m.\u001b[0m\u001b[0mmax\u001b[0m\u001b[0;34m(\u001b[0m\u001b[0;34m)\u001b[0m\u001b[0;34m\u001b[0m\u001b[0;34m\u001b[0m\u001b[0m\n\u001b[1;32m      2\u001b[0m \u001b[0mlast\u001b[0m \u001b[0;34m=\u001b[0m \u001b[0mdirty_df\u001b[0m\u001b[0;34m[\u001b[0m\u001b[0;34m'deadline'\u001b[0m\u001b[0;34m]\u001b[0m\u001b[0;34m.\u001b[0m\u001b[0mmin\u001b[0m\u001b[0;34m(\u001b[0m\u001b[0;34m)\u001b[0m\u001b[0;34m\u001b[0m\u001b[0;34m\u001b[0m\u001b[0m\n\u001b[0;32m----> 3\u001b[0;31m \u001b[0mlast\u001b[0m \u001b[0;34m-\u001b[0m \u001b[0mfirst\u001b[0m\u001b[0;34m\u001b[0m\u001b[0;34m\u001b[0m\u001b[0m\n\u001b[0m",
      "\u001b[0;31mTypeError\u001b[0m: unsupported operand type(s) for -: 'str' and 'str'"
     ]
    }
   ],
   "metadata": {}
  }
 ],
 "metadata": {
  "interpreter": {
   "hash": "0209d1f4d0eebbb30e547b52804f58f9c021d4858d72881d9e75f0b9a687ab2e"
  },
  "kernelspec": {
   "name": "python3",
   "display_name": "Python 3.9.6 64-bit ('Lambda-u2tOXJEG': pipenv)"
  },
  "language_info": {
   "codemirror_mode": {
    "name": "ipython",
    "version": 3
   },
   "file_extension": ".py",
   "mimetype": "text/x-python",
   "name": "python",
   "nbconvert_exporter": "python",
   "pygments_lexer": "ipython3",
   "version": "3.9.6"
  }
 },
 "nbformat": 4,
 "nbformat_minor": 5
}